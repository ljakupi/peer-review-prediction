{
 "cells": [
  {
   "cell_type": "code",
   "execution_count": 124,
   "metadata": {
    "collapsed": false
   },
   "outputs": [],
   "source": [
    "from sklearn.metrics import accuracy_score, confusion_matrix, classification_report, balanced_accuracy_score\n",
    "from sklearn.model_selection import train_test_split, cross_val_score\n",
    "from sklearn.feature_extraction.text import TfidfVectorizer\n",
    "from sklearn.utils import resample\n",
    "\n",
    "import matplotlib.pyplot as plt\n",
    "import seaborn as sns\n",
    "import pandas as pd\n",
    "\n",
    "from sklearn.linear_model import LogisticRegression, SGDClassifier\n",
    "from sklearn.ensemble import RandomForestClassifier\n",
    "from sklearn.multiclass import OneVsRestClassifier\n",
    "from sklearn.naive_bayes import MultinomialNB\n",
    "from sklearn.svm import LinearSVC\n",
    "from sklearn import neighbors\n",
    "\n",
    "from nltk.stem.wordnet import WordNetLemmatizer\n",
    "from nltk.corpus import stopwords\n",
    "\n",
    "import warnings\n",
    "warnings.filterwarnings('ignore')"
   ]
  },
  {
   "cell_type": "markdown",
   "metadata": {},
   "source": [
    "** Load datasets **"
   ]
  },
  {
   "cell_type": "code",
   "execution_count": 125,
   "metadata": {
    "collapsed": false
   },
   "outputs": [],
   "source": [
    "# load datasets\n",
    "train_df = pd.read_csv('./../datasets/train.csv', error_bad_lines=False)\n",
    "test_df = pd.read_csv('./../datasets/test.csv', error_bad_lines=False)\n",
    "unlabeled_df = pd.read_csv('./../datasets/unlabeled.csv', error_bad_lines=False)"
   ]
  },
  {
   "cell_type": "code",
   "execution_count": 126,
   "metadata": {
    "collapsed": false
   },
   "outputs": [
    {
     "name": "stdout",
     "output_type": "stream",
     "text": [
      "(1047, 3)\n",
      "(404, 3)\n",
      "(8574, 3)\n"
     ]
    }
   ],
   "source": [
    "print(train_df.shape)\n",
    "print(test_df.shape)\n",
    "print(unlabeled_df.shape)"
   ]
  },
  {
   "cell_type": "markdown",
   "metadata": {},
   "source": [
    "## Data preparation"
   ]
  },
  {
   "cell_type": "markdown",
   "metadata": {},
   "source": [
    "The data are already cleaned and now ready to use."
   ]
  },
  {
   "cell_type": "code",
   "execution_count": 127,
   "metadata": {
    "collapsed": false
   },
   "outputs": [
    {
     "data": {
      "image/png": "[encoded data removed]",
      "text/plain": [
       "<matplotlib.figure.Figure at 0x11d7406a0>"
      ]
     },
     "metadata": {},
     "output_type": "display_data"
    }
   ],
   "source": [
    "# Check the distribution of samples over labels\n",
    "df_stats_train = train_df.score.value_counts()\n",
    "df_stats_test = test_df.score.value_counts()\n",
    "\n",
    "plt.figure(figsize=(12,5))\n",
    "plt.title('Number of reviews per score')\n",
    "ax1 = df_stats_train.sort_index(ascending=True).plot(color='blue', grid=True, label='Train data', kind='bar', legend=False)\n",
    "ax2 = df_stats_test.sort_index(ascending=True).plot(color='red', grid=True, label='Test data', kind='bar', legend=False)\n",
    "ax1.legend(loc=1)\n",
    "ax2.legend(loc=2)\n",
    "plt.ylabel('# of reviews', fontsize=12)\n",
    "plt.xlabel('Score', fontsize=12)\n",
    "plt.show()"
   ]
  },
  {
   "cell_type": "code",
   "execution_count": 128,
   "metadata": {
    "collapsed": false
   },
   "outputs": [
    {
     "name": "stdout",
     "output_type": "stream",
     "text": [
      "Train labels values:  [ 4.  3.  5.  2.  1.  7.  8.  6.  9. 10.]\n",
      "Test labels values:  [ 5.  4.  3.  2.  1.  8.  6.  7.  9. 10.]\n"
     ]
    }
   ],
   "source": [
    "# Check label values\n",
    "print('Train labels values: ', train_df.score.unique())\n",
    "print('Test labels values: ', test_df.score.unique())"
   ]
  },
  {
   "cell_type": "code",
   "execution_count": 129,
   "metadata": {
    "collapsed": false
   },
   "outputs": [
    {
     "name": "stdout",
     "output_type": "stream",
     "text": [
      "  review_file_id                                           comments  score\n",
      "0       729.json  strengths the authors propose a kernel based m...      4\n",
      "1       338.json  strengths the related work is quite thorough a...      4\n",
      "2       343.json  strengths i well organized and easy to underst...      3\n",
      "3       752.json  strengths the paper demonstrates that seqseq m...      4\n",
      "4       752.json  the authors use self training to train a seqse...      4\n",
      "  review_file_id                                           comments  score\n",
      "0       338.json  this paper investigates the cold start problem...      5\n",
      "1       553.json  strengths a nice solid piece of work that buil...      4\n",
      "2       553.json  this paper propose a general framework for ana...      3\n",
      "3       251.json  this paper delves into the mathematical proper...      4\n",
      "4       178.json  the paper describes an extension of word embed...      2\n"
     ]
    }
   ],
   "source": [
    "# Cast score column to int\n",
    "train_df['score'] = train_df.score.astype(int)\n",
    "test_df['score'] = test_df.score.astype(int)\n",
    "\n",
    "print(train_df.head())\n",
    "print(test_df.head())"
   ]
  },
  {
   "cell_type": "code",
   "execution_count": 130,
   "metadata": {
    "collapsed": false
   },
   "outputs": [
    {
     "name": "stdout",
     "output_type": "stream",
     "text": [
      "[3 2 4 1 0 6 7 5 8 9]\n",
      "[4 3 2 1 0 7 5 6 8 9]\n"
     ]
    }
   ],
   "source": [
    "# scale score to range 0-9\n",
    "train_df['score'] = train_df['score'].apply(lambda x: x-1)\n",
    "test_df['score'] = test_df['score'].apply(lambda x: x-1)\n",
    "\n",
    "print(train_df.score.unique())\n",
    "print(test_df.score.unique())"
   ]
  },
  {
   "cell_type": "code",
   "execution_count": 131,
   "metadata": {
    "collapsed": false,
    "scrolled": true
   },
   "outputs": [
    {
     "data": {
      "text/plain": [
       "'strengths the authors propose a kernel based method that captures high order patterns differentiting different types of rumors by evaluating the similarities between their propagation tree structures weaknesses maybe the maths is not always clear in sect general discussion the authors propose a propagation tree kernel a kernel based method that captures high order patterns differentiating types of rumors by evaluating the similarities between their propagation tree structures the proposed approach detects rumors more quickly and with a higher accuracy compared to the one obtained by the state of the art methods the data set should be made public for research purposes typos need to be fixed e g any subgraph which have has tpk ptk table show s missing information needs to be added where was it published information needs to be in the same format e g vs figure is a bit small'"
      ]
     },
     "execution_count": 131,
     "metadata": {},
     "output_type": "execute_result"
    }
   ],
   "source": [
    "train_df['comments'][0]"
   ]
  },
  {
   "cell_type": "markdown",
   "metadata": {},
   "source": [
    "** Clean data using regex **\n",
    "\n",
    "Using the function below, I cleaned the raw data taken from the original JSON files from the original dataset repository (https://github.com/allenai/PeerRead/tree/master/data). The code of the process of reading the JSON files and extracting the data (lot of unnecessary code) is not included here. In my repository, you will find a folder **/datasets/exp1/**, which includes data splits (train, test and unlabeled data) that are cleaned. However, in the very beginning of this notebook these files are loaded and following steps prepare the data using other techniques such as removing stop-words (including custom stop-words), lemmatization, feature engineering using TF-IDF, use of n-grams for features, etc."
   ]
  },
  {
   "cell_type": "code",
   "execution_count": 132,
   "metadata": {
    "collapsed": true
   },
   "outputs": [],
   "source": [
    "# Method to clean the comments\n",
    "# def clean_text(text):\n",
    "#     text = text.lower()\n",
    "#     text = re.sub(r\"what's\", \"what is \", text)\n",
    "#     text = re.sub(r\"\\'s\", \" \", text)\n",
    "#     text = re.sub(r\"\\'ve\", \" have \", text)\n",
    "#     text = re.sub(r\"can't\", \"can not \", text)\n",
    "#     text = re.sub(r\"n't\", \" not \", text)\n",
    "#     text = re.sub(r\"i'm\", \"i am \", text)\n",
    "#     text = re.sub(r\"\\'re\", \" are \", text)\n",
    "#     text = re.sub(r\"\\'d\", \" would \", text)\n",
    "#     text = re.sub(r\"\\'ll\", \" will \", text)\n",
    "#     text = re.sub(r\"\\'scuse\", \" excuse \", text)\n",
    "#     text = re.sub('\\W', ' ', text)\n",
    "#     text = re.sub('\\s+', ' ', text)\n",
    "#     text = re.sub('[0-9]+', '', text)\n",
    "#     text = re.sub(' +', ' ', text) # replace double spaces with single\n",
    "#     text = text.replace(\"_\",\"\")\n",
    "#     text = text.strip(' ')\n",
    "#     return text"
   ]
  },
  {
   "cell_type": "markdown",
   "metadata": {},
   "source": [
    "** Remove stop words **\n",
    "\n",
    "Stop-words are language specific. In my case, I use NLKT pre-defined stop-words set for English language. Besides this, I also add some custom words to this set that I think should be ignored. I use the \"count word frequency\" approach. I count all the words frequencies and remove the most frequent words, but also remove the rarest words (the words that occur very rare)."
   ]
  },
  {
   "cell_type": "code",
   "execution_count": 133,
   "metadata": {
    "collapsed": false
   },
   "outputs": [
    {
     "data": {
      "text/plain": [
       "0    strengths authors propose kernel based method ...\n",
       "1    strengths related work quite thorough comparis...\n",
       "2    strengths well organized easy understand ii pr...\n",
       "3    strengths paper demonstrates seqseq models com...\n",
       "4    authors use self training train seqseq based a...\n",
       "Name: comments, dtype: object"
      ]
     },
     "execution_count": 133,
     "metadata": {},
     "output_type": "execute_result"
    }
   ],
   "source": [
    "stop = stopwords.words('english')\n",
    "train_df['comments'] = train_df['comments'].apply(lambda x: \" \".join(x for x in x.split() if x not in stop))\n",
    "test_df['comments'] = test_df['comments'].apply(lambda x: \" \".join(x for x in x.split() if x not in stop))\n",
    "unlabeled_df['comments'] = unlabeled_df['comments'].apply(lambda x: \" \".join(x for x in x.split() if x not in stop))\n",
    "\n",
    "train_df['comments'].head()"
   ]
  },
  {
   "cell_type": "markdown",
   "metadata": {},
   "source": [
    "** Remove most frequent words **"
   ]
  },
  {
   "cell_type": "code",
   "execution_count": 134,
   "metadata": {
    "collapsed": false
   },
   "outputs": [],
   "source": [
    "freq_train = pd.Series(\" \".join(train_df['comments']).split()).value_counts()[:5]\n",
    "freq_test = pd.Series(\" \".join(test_df['comments']).split()).value_counts()[:5]\n",
    "freq_unlabeled = pd.Series(\" \".join(unlabeled_df['comments']).split()).value_counts()[:5]\n",
    "\n",
    "most_frequent_words = freq_train  # these most frequent words are the same for all the three datasets"
   ]
  },
  {
   "cell_type": "code",
   "execution_count": 135,
   "metadata": {
    "collapsed": false
   },
   "outputs": [
    {
     "data": {
      "text/plain": [
       "paper      3487\n",
       "model      1562\n",
       "authors    1485\n",
       "would      1483\n",
       "results    1181\n",
       "dtype: int64"
      ]
     },
     "execution_count": 135,
     "metadata": {},
     "output_type": "execute_result"
    }
   ],
   "source": [
    "most_frequent_words"
   ]
  },
  {
   "cell_type": "code",
   "execution_count": 136,
   "metadata": {
    "collapsed": false
   },
   "outputs": [
    {
     "data": {
      "text/plain": [
       "'strengths propose kernel based method captures high order patterns differentiting different types rumors evaluating similarities propagation tree structures weaknesses maybe maths always clear sect general discussion propose propagation tree kernel kernel based method captures high order patterns differentiating types rumors evaluating similarities propagation tree structures proposed approach detects rumors quickly higher accuracy compared one obtained state art methods data set made public research purposes typos need fixed e g subgraph tpk ptk table show missing information needs added published information needs format e g vs figure bit small'"
      ]
     },
     "execution_count": 136,
     "metadata": {},
     "output_type": "execute_result"
    }
   ],
   "source": [
    "# remove these words as their presence will not help much in classification of our text data.\n",
    "most_frequent_words = list(most_frequent_words.index)\n",
    "\n",
    "train_df['comments'] = train_df['comments'].apply(lambda x: \" \".join(x for x in x.split() if x not in most_frequent_words))\n",
    "test_df['comments'] = test_df['comments'].apply(lambda x: \" \".join(x for x in x.split() if x not in most_frequent_words))\n",
    "unlabeled_df['comments'] = unlabeled_df['comments'].apply(lambda x: \" \".join(x for x in x.split() if x not in most_frequent_words))\n",
    "\n",
    "train_df['comments'][0]"
   ]
  },
  {
   "cell_type": "markdown",
   "metadata": {},
   "source": [
    "** Remove rare words (very low frequency) **"
   ]
  },
  {
   "cell_type": "code",
   "execution_count": 137,
   "metadata": {
    "collapsed": false
   },
   "outputs": [],
   "source": [
    "# Remove 50 rare words \n",
    "freq_rare_train = pd.Series(' '.join(train_df['comments']).split()).value_counts()[-50:]\n",
    "freq_rare_test = pd.Series(' '.join(test_df['comments']).split()).value_counts()[-50:]\n",
    "freq_rare_unlabeled = pd.Series(' '.join(unlabeled_df['comments']).split()).value_counts()[-50:]\n",
    "\n",
    "freq_rare_train = list(freq_rare_train.index)\n",
    "freq_rare_test = list(freq_rare_test.index)\n",
    "freq_rare_unlabeled = list(freq_rare_unlabeled.index)\n",
    "\n",
    "train_df['comments'] = train_df['comments'].apply(lambda x: \" \".join(x for x in x.split() if x not in freq_rare_train))\n",
    "test_df['comments'] = test_df['comments'].apply(lambda x: \" \".join(x for x in x.split() if x not in freq_rare_test))\n",
    "unlabeled_df['comments'] = unlabeled_df['comments'].apply(lambda x: \" \".join(x for x in x.split() if x not in freq_rare_unlabeled))"
   ]
  },
  {
   "cell_type": "code",
   "execution_count": 138,
   "metadata": {
    "collapsed": false
   },
   "outputs": [
    {
     "data": {
      "text/plain": [
       "'strengths propose kernel based method captures high order patterns differentiting different types rumors evaluating similarities propagation tree structures weaknesses maybe maths always clear sect general discussion propose propagation tree kernel kernel based method captures high order patterns differentiating types rumors evaluating similarities propagation tree structures proposed approach detects rumors quickly higher accuracy compared one obtained state art methods data set made public research purposes typos need fixed e g subgraph tpk ptk table show missing information needs added published information needs format e g vs figure bit small'"
      ]
     },
     "execution_count": 138,
     "metadata": {},
     "output_type": "execute_result"
    }
   ],
   "source": [
    "train_df['comments'][0]"
   ]
  },
  {
   "cell_type": "markdown",
   "metadata": {},
   "source": [
    "** Lemmatization **"
   ]
  },
  {
   "cell_type": "code",
   "execution_count": 139,
   "metadata": {
    "collapsed": false
   },
   "outputs": [
    {
     "data": {
      "text/plain": [
       "'strength propose kernel based method capture high order pattern differentiting different type rumor evaluating similarity propagation tree structure weakness maybe math always clear sect general discussion propose propagation tree kernel kernel based method capture high order pattern differentiating type rumor evaluating similarity propagation tree structure proposed approach detects rumor quickly higher accuracy compared obtained state method data made public research purpose typo need fixed subgraph table show missing information need added published information need format figure small'"
      ]
     },
     "execution_count": 139,
     "metadata": {},
     "output_type": "execute_result"
    }
   ],
   "source": [
    "# Lemmatization is a more effective option than stemming because it converts the word into its root word, rather than \n",
    "# just stripping the suffices. It makes use of the vocabulary and does a morphological analysis to obtain the root word. \n",
    "# Therefore, it is usually preferred using lemmatization over stemming.\n",
    "# Remove also some words that are less then three chars, there are some weird words like in example above (cell 307)\n",
    "# such as \"e\", \"g\", \"vs\", \"tpk\", \"ptk\", etc. \n",
    "# For instance \"e\" + \"g\" came from a case where reviewer used \"for example\" acronym \"e.g\".\n",
    "\n",
    "lemmatizer = WordNetLemmatizer()\n",
    "\n",
    "train_df['comments'] = train_df['comments'].apply(lambda x: \" \".join([lemmatizer.lemmatize(word) for word in x.split() if len(word) > 3]))\n",
    "test_df['comments'] = test_df['comments'].apply(lambda x: \" \".join([lemmatizer.lemmatize(word) for word in x.split()  if len(word) > 3]))\n",
    "unlabeled_df['comments'] = unlabeled_df['comments'].apply(lambda x: \" \".join([lemmatizer.lemmatize(word) for word in x.split() if len(word) > 3]))\n",
    "\n",
    "train_df['comments'][0]"
   ]
  },
  {
   "cell_type": "markdown",
   "metadata": {},
   "source": [
    "** Store a version of this pre-processed dataset ** \n",
    "\n",
    "Merge training and test set and store this version of cleaned and processed data for use in second experiment (LSTM). We don't have to do the preprocessing again in the second experiment and start with new data split."
   ]
  },
  {
   "cell_type": "code",
   "execution_count": 120,
   "metadata": {
    "collapsed": false
   },
   "outputs": [
    {
     "name": "stdout",
     "output_type": "stream",
     "text": [
      "(1451, 3)\n",
      "  review_file_id                                           comments  score\n",
      "0       729.json  strength propose kernel based method capture h...      3\n",
      "1       338.json  strength related work quite thorough compariso...      3\n",
      "2       343.json  strength well organized easy understand provid...      2\n",
      "3       752.json  strength demonstrates seqseq model comparative...      3\n",
      "4       752.json  self training train seqseq based parser using ...      3\n"
     ]
    }
   ],
   "source": [
    "# df = pd.concat([train_df, test_df])\n",
    "# df['score'] = df.score.astype(int)\n",
    "\n",
    "# print(df.shape)\n",
    "# print(df.head())"
   ]
  },
  {
   "cell_type": "code",
   "execution_count": 123,
   "metadata": {
    "collapsed": false
   },
   "outputs": [
    {
     "name": "stdout",
     "output_type": "stream",
     "text": [
      "Done!\n"
     ]
    }
   ],
   "source": [
    "# df.to_csv('./datasets/final_datasets/exp2/peer_reviews.csv', encoding='utf-8', index=False)\n",
    "# print(\"Done!\")"
   ]
  },
  {
   "cell_type": "markdown",
   "metadata": {},
   "source": [
    "** Split data **"
   ]
  },
  {
   "cell_type": "code",
   "execution_count": 140,
   "metadata": {
    "collapsed": true
   },
   "outputs": [],
   "source": [
    "X_train = train_df.comments\n",
    "X_test = test_df.comments\n",
    "y_train = train_df.score\n",
    "y_test = test_df.score"
   ]
  },
  {
   "cell_type": "code",
   "execution_count": 141,
   "metadata": {
    "collapsed": false
   },
   "outputs": [
    {
     "name": "stdout",
     "output_type": "stream",
     "text": [
      "(1047,)\n",
      "(404,)\n",
      "(1047,)\n",
      "(404,)\n"
     ]
    }
   ],
   "source": [
    "print(X_train.shape)\n",
    "print(X_test.shape)\n",
    "print(y_train.shape)\n",
    "print(y_test.shape)"
   ]
  },
  {
   "cell_type": "code",
   "execution_count": 142,
   "metadata": {
    "collapsed": false
   },
   "outputs": [
    {
     "name": "stdout",
     "output_type": "stream",
     "text": [
      "0    strength propose kernel based method capture h...\n",
      "1    strength related work quite thorough compariso...\n",
      "2    strength well organized easy understand provid...\n",
      "3    strength demonstrates seqseq model comparative...\n",
      "4    self training train seqseq based parser using ...\n",
      "Name: comments, dtype: object\n",
      "0    investigates cold start problem review spam de...\n",
      "1    strength nice solid piece work build previous ...\n",
      "2    propose general framework analyzing similarity...\n",
      "3    delf mathematical property skip gram explainin...\n",
      "4    describes extension word embedding method also...\n",
      "Name: comments, dtype: object\n"
     ]
    }
   ],
   "source": [
    "print(X_train.head())\n",
    "print(X_test.head())"
   ]
  },
  {
   "cell_type": "markdown",
   "metadata": {},
   "source": [
    "** TFIDF feature extraction **"
   ]
  },
  {
   "cell_type": "code",
   "execution_count": 143,
   "metadata": {
    "collapsed": true
   },
   "outputs": [],
   "source": [
    "# A method for feature extraction using TFIDF.\n",
    "# I used n-grams to overcome cases of n successive words, e.g., phrases \"good\" and \"not good\" does not have the same\n",
    "# meaning, the first is something positive, the second indicates something negative. Using only TF-IDF these cases\n",
    "# are not treated well, however by using n-gram (in my case 2-gram) these cases are resolved. 2-gram provided better \n",
    "# results in my case, compared to unigram, 3-gram, 4-gram.\n",
    "# I did not have to develop the n-gram myself because I could easily use a parameter for TfidfVectorizer() which\n",
    "# handles that \n",
    "def TFIDFvec(X_train, X_test):\n",
    "    vectorizer = TfidfVectorizer(max_features=None, stop_words='english', ngram_range=(1, 2))\n",
    "    X_train_tfidf = vectorizer.fit_transform(X_train)\n",
    "    X_test_tfidf = vectorizer.transform(X_test)\n",
    "\n",
    "    return X_train_tfidf, X_test_tfidf"
   ]
  },
  {
   "cell_type": "markdown",
   "metadata": {},
   "source": [
    "** Choose the best model **"
   ]
  },
  {
   "cell_type": "code",
   "execution_count": 144,
   "metadata": {
    "collapsed": false
   },
   "outputs": [
    {
     "name": "stdout",
     "output_type": "stream",
     "text": [
      "(1047, 115206)\n",
      "(404, 115206)\n"
     ]
    }
   ],
   "source": [
    "# First vectorize the samples using TFIDFvec() we created above\n",
    "X_train_tfidf, X_test_tfidf = TFIDFvec(X_train, X_test)\n",
    "\n",
    "print(X_train_tfidf.shape)\n",
    "print(X_test_tfidf.shape)"
   ]
  },
  {
   "cell_type": "code",
   "execution_count": 145,
   "metadata": {
    "collapsed": false
   },
   "outputs": [
    {
     "data": {
      "image/png": "[encoded data removed]",
      "text/plain": [
       "<matplotlib.figure.Figure at 0x11d814470>"
      ]
     },
     "metadata": {},
     "output_type": "display_data"
    }
   ],
   "source": [
    "## Test several models and choose the one with the best accuracy\n",
    "models = [\n",
    "    LinearSVC(C= 0.1, loss= 'squared_hinge'),\n",
    "    RandomForestClassifier(),    \n",
    "    LogisticRegression(random_state=0),\n",
    "    OneVsRestClassifier(MultinomialNB()),\n",
    "    SGDClassifier(loss='hinge')\n",
    "]\n",
    "\n",
    "CV = 5 # 5-fold cross validation\n",
    "cv_df = pd.DataFrame(index=range(CV * len(models)))\n",
    "entries = []\n",
    "for model in models:\n",
    "    model_name = model.__class__.__name__\n",
    "    accuracies = cross_val_score(model, X_train_tfidf, y_train, scoring='accuracy', cv=CV)\n",
    "    \n",
    "    for fold_idx, accuracy in enumerate(accuracies):\n",
    "        entries.append((model_name, fold_idx, accuracy))\n",
    "\n",
    "cv_df = pd.DataFrame(entries, columns=['model_name', 'fold_idx', 'accuracy'])\n",
    "\n",
    "import seaborn as sns\n",
    "plt.figure(figsize=(12,5))\n",
    "plt.title('Compare different models based on accuracy')\n",
    "sns.boxplot(x='model_name', y='accuracy', data=cv_df)\n",
    "sns.stripplot(x='model_name', y='accuracy', data=cv_df, size=8, jitter=True, edgecolor=\"gray\", linewidth=2)\n",
    "plt.ylabel('Accuracy', fontsize=12)\n",
    "plt.xlabel('Model', fontsize=12)\n",
    "plt.show()"
   ]
  },
  {
   "cell_type": "code",
   "execution_count": 146,
   "metadata": {
    "collapsed": false
   },
   "outputs": [
    {
     "data": {
      "text/plain": [
       "model_name\n",
       "LinearSVC                 0.239360\n",
       "LogisticRegression        0.237568\n",
       "RandomForestClassifier    0.235217\n",
       "OneVsRestClassifier       0.232135\n",
       "SGDClassifier             0.211284\n",
       "Name: accuracy, dtype: float64"
      ]
     },
     "execution_count": 146,
     "metadata": {},
     "output_type": "execute_result"
    }
   ],
   "source": [
    "cv_df.groupby('model_name').accuracy.mean().sort_values(ascending=False)"
   ]
  },
  {
   "cell_type": "markdown",
   "metadata": {},
   "source": [
    "** Define the model **"
   ]
  },
  {
   "cell_type": "code",
   "execution_count": 70,
   "metadata": {
    "collapsed": true
   },
   "outputs": [],
   "source": [
    "## LinearSVC is chosen as best model\n",
    "def LinearSVCClass(X_train, y_train, X_test):\n",
    "    classifier = LinearSVC(C= 0.1, loss= 'squared_hinge')\n",
    "\n",
    "    classifier.fit(X_train, y_train)\n",
    "\n",
    "    y_pred = classifier.predict(X_test)\n",
    "    \n",
    "    return y_pred"
   ]
  },
  {
   "cell_type": "markdown",
   "metadata": {},
   "source": [
    "** Helper function to plot confusion matrix **"
   ]
  },
  {
   "cell_type": "code",
   "execution_count": 71,
   "metadata": {
    "collapsed": true
   },
   "outputs": [],
   "source": [
    "## Plot the confusion matrix\n",
    "def plotCM(y_test, y_pred):\n",
    "    cm = confusion_matrix(y_test, y_pred)\n",
    "\n",
    "    scores = [1, 2, 3, 4, 5, 6, 7, 8, 9, 10]\n",
    "    sns.heatmap(cm.T, square=True, annot=True, fmt='d', cbar=False, xticklabels=scores, yticklabels=scores)\n",
    "    plt.xlabel('true label')\n",
    "    plt.ylabel('predicted label')\n",
    "    plt.show()\n",
    "    return cm"
   ]
  },
  {
   "cell_type": "markdown",
   "metadata": {},
   "source": [
    "** Run the classifier **"
   ]
  },
  {
   "cell_type": "code",
   "execution_count": 72,
   "metadata": {
    "collapsed": false
   },
   "outputs": [
    {
     "name": "stdout",
     "output_type": "stream",
     "text": [
      "Balanced accuracy:  0.26464427591188155\n",
      "Accuracy:  0.3217821782178218\n",
      "Classification report: \n",
      "               precision    recall  f1-score   support\n",
      "\n",
      "           0       0.00      0.00      0.00         2\n",
      "           1       0.00      0.00      0.00        21\n",
      "           2       0.00      0.00      0.00        55\n",
      "           3       0.33      0.85      0.48       100\n",
      "           4       0.08      0.02      0.03        54\n",
      "           5       0.31      0.34      0.32        65\n",
      "           6       0.34      0.33      0.33        67\n",
      "           7       0.00      0.00      0.00        30\n",
      "           8       0.00      0.00      0.00         9\n",
      "           9       0.00      0.00      0.00         1\n",
      "\n",
      "   micro avg       0.32      0.32      0.32       404\n",
      "   macro avg       0.11      0.15      0.12       404\n",
      "weighted avg       0.20      0.32      0.23       404\n",
      "\n",
      "Confusion matrix: \n",
      "\n"
     ]
    },
    {
     "data": {
      "image/png": "[encoded data removed]",
      "text/plain": [
       "<matplotlib.figure.Figure at 0x12aa2e438>"
      ]
     },
     "metadata": {},
     "output_type": "display_data"
    }
   ],
   "source": [
    "## SVM classification\n",
    "y_pred = LinearSVCClass(X_train_tfidf, y_train, X_test_tfidf)\n",
    "\n",
    "print('Balanced accuracy: ', balanced_accuracy_score(y_pred, y_test))\n",
    "print('Accuracy: ', accuracy_score(y_pred, y_test))\n",
    "print('Classification report: \\n', classification_report(y_test, y_pred))\n",
    "print('Confusion matrix: \\n')\n",
    "cm = plotCM(y_test, y_pred)"
   ]
  },
  {
   "cell_type": "markdown",
   "metadata": {
    "collapsed": true
   },
   "source": [
    "** Upsample dataset to balance the classes**"
   ]
  },
  {
   "cell_type": "code",
   "execution_count": 83,
   "metadata": {
    "collapsed": false
   },
   "outputs": [
    {
     "name": "stdout",
     "output_type": "stream",
     "text": [
      "majority:  (242, 3)\n",
      "minority:  (805, 3)\n",
      "236\n",
      "194\n",
      "126\n",
      "76\n",
      "49\n",
      "59\n",
      "167\n",
      "226\n",
      "240\n",
      "minority upsampled:  (2178, 3)\n",
      "upsampled main df:  (2420, 3)\n",
      "samples per score after upsampled:\n",
      " 9    242\n",
      "7    242\n",
      "5    242\n",
      "3    242\n",
      "1    242\n",
      "8    242\n",
      "6    242\n",
      "4    242\n",
      "2    242\n",
      "0    242\n",
      "Name: score, dtype: int64\n"
     ]
    }
   ],
   "source": [
    "## We do upsampling now, to solve the issue of im-balanced data\n",
    "## We have a very few data for scores 1, 2, 9 and 10. The classes 4 has lot of reviews, followed by 3, 5, 6, 7, 8.\n",
    "## So, we try to balance the data, by upsampling all the classes to meet the number of samples that class 4 has.\n",
    "\n",
    "main_df = train_df\n",
    "\n",
    "# Separate the majority and the minority classes. \n",
    "# HINT: Here, the class 4 is 3 becaue the scale of score we work with is 0-9, \n",
    "# while in plots and other reporting metrics we use the scale 1-10\n",
    "df_majority = main_df[main_df.score==3]\n",
    "df_minority = main_df[main_df.score!=3]\n",
    "print('majority: ', df_majority.shape)\n",
    "print('minority: ', df_minority.shape)\n",
    "\n",
    "\n",
    "df_minority_upsampled = []\n",
    "for i,k in enumerate([0, 1, 2, 4, 5, 6, 7, 8, 9]):\n",
    "    diff = (len(df_majority)-len(df_minority[df_minority.score==k]))\n",
    "    print(diff)\n",
    "    df_minority_upsampled.append(resample(df_minority[df_minority.score==k], replace=True, n_samples=diff)) \n",
    "    \n",
    "df_minority_ups = pd.concat(df_minority_upsampled)\n",
    "df_minority_merged = pd.concat([df_minority_ups, df_minority])\n",
    "print('minority upsampled: ', df_minority_merged.shape)\n",
    "\n",
    "main_df_upsampled = pd.concat([df_majority, df_minority_merged])\n",
    "print('upsampled main df: ', main_df_upsampled.shape)\n",
    "print('samples per score after upsampled:\\n', main_df_upsampled.score.value_counts())"
   ]
  },
  {
   "cell_type": "code",
   "execution_count": 84,
   "metadata": {
    "collapsed": false
   },
   "outputs": [
    {
     "data": {
      "image/png": "[encoded data removed]",
      "text/plain": [
       "<matplotlib.figure.Figure at 0x108380438>"
      ]
     },
     "metadata": {},
     "output_type": "display_data"
    }
   ],
   "source": [
    "# check the distribution of upsampled dataset\n",
    "df_stats = main_df_upsampled.score.value_counts()\n",
    "\n",
    "plt.figure(figsize=(12,5))\n",
    "plt.title('Number of reviews per score')\n",
    "ax1 = df_stats.sort_index(ascending=True).plot(color='blue', grid=True, label='Data samples', kind='bar', legend=False)\n",
    "ax1.legend(loc=1)\n",
    "plt.ylabel('# of reviews', fontsize=12)\n",
    "plt.xlabel('Score', fontsize=12)\n",
    "plt.show()\n"
   ]
  },
  {
   "cell_type": "code",
   "execution_count": 85,
   "metadata": {
    "collapsed": false
   },
   "outputs": [
    {
     "name": "stdout",
     "output_type": "stream",
     "text": [
      "train (2420, 3)\n",
      "test (404, 3)\n"
     ]
    }
   ],
   "source": [
    "# Let's now use the upsampled data as training data and use the very first test set as test data\n",
    "# This test set has never been used\n",
    "train_dataset = main_df_upsampled\n",
    "test_dataset = test_df # test set split in the very beginning \n",
    "\n",
    "print('train', train_dataset.shape)\n",
    "print('test', test_dataset.shape)"
   ]
  },
  {
   "cell_type": "code",
   "execution_count": 86,
   "metadata": {
    "collapsed": false
   },
   "outputs": [
    {
     "name": "stdout",
     "output_type": "stream",
     "text": [
      "train [3 0 1 2 4 5 6 7 8 9]\n",
      "test [4 3 2 1 0 7 5 6 8 9]\n"
     ]
    }
   ],
   "source": [
    "print('train', train_dataset.score.unique())\n",
    "print('test', test_dataset.score.unique())"
   ]
  },
  {
   "cell_type": "code",
   "execution_count": 87,
   "metadata": {
    "collapsed": false
   },
   "outputs": [
    {
     "name": "stdout",
     "output_type": "stream",
     "text": [
      "(2420, 115206)\n",
      "(404, 115206)\n"
     ]
    }
   ],
   "source": [
    "# extract features\n",
    "X_train_tfidf, X_test_tfidf = TFIDFvec(train_dataset.comments, test_dataset.comments)\n",
    "\n",
    "print(X_train_tfidf.shape)\n",
    "print(X_test_tfidf.shape)"
   ]
  },
  {
   "cell_type": "code",
   "execution_count": 88,
   "metadata": {
    "collapsed": false
   },
   "outputs": [
    {
     "name": "stdout",
     "output_type": "stream",
     "text": [
      "Balanced accuracy:  0.3165842498943384\n",
      "Accuracy:  0.30445544554455445\n",
      "Classification report: \n",
      "               precision    recall  f1-score   support\n",
      "\n",
      "           0       0.00      0.00      0.00         2\n",
      "           1       0.26      0.62      0.37        21\n",
      "           2       0.14      0.07      0.10        55\n",
      "           3       0.47      0.42      0.44       100\n",
      "           4       0.14      0.17      0.15        54\n",
      "           5       0.33      0.42      0.37        65\n",
      "           6       0.34      0.36      0.35        67\n",
      "           7       0.17      0.10      0.12        30\n",
      "           8       0.00      0.00      0.00         9\n",
      "           9       1.00      1.00      1.00         1\n",
      "\n",
      "   micro avg       0.30      0.30      0.30       404\n",
      "   macro avg       0.28      0.32      0.29       404\n",
      "weighted avg       0.29      0.30      0.29       404\n",
      "\n",
      "Confusion matrix: \n",
      "\n"
     ]
    },
    {
     "data": {
      "image/png": "[encoded data removed]",
      "text/plain": [
       "<matplotlib.figure.Figure at 0x11d43dcf8>"
      ]
     },
     "metadata": {},
     "output_type": "display_data"
    }
   ],
   "source": [
    "## LinearSVC classification trained on upsampled data and tested on the unseen test set (not upsampled)\n",
    "y_pred = LinearSVCClass(X_train_tfidf, train_dataset.score, X_test_tfidf)\n",
    "\n",
    "print('Balanced accuracy: ', balanced_accuracy_score(y_pred, y_test))\n",
    "print('Accuracy: ', accuracy_score(y_pred, test_dataset.score))\n",
    "print('Classification report: \\n', classification_report(test_dataset.score, y_pred))\n",
    "print('Confusion matrix: \\n')\n",
    "cm = plotCM(test_dataset.score, y_pred)"
   ]
  },
  {
   "cell_type": "markdown",
   "metadata": {},
   "source": [
    "## Put in use the unlabeled data"
   ]
  },
  {
   "cell_type": "markdown",
   "metadata": {},
   "source": [
    "** Generate labels for unlabeled data using the upsampled data as part of training data **"
   ]
  },
  {
   "cell_type": "code",
   "execution_count": 90,
   "metadata": {
    "collapsed": false
   },
   "outputs": [
    {
     "name": "stdout",
     "output_type": "stream",
     "text": [
      "(2420, 115206)\n",
      "(8574, 115206)\n"
     ]
    }
   ],
   "source": [
    "# use labeled train dataset as training\n",
    "X_train = main_df_upsampled.comments\n",
    "y_train = main_df_upsampled.score\n",
    "X_test = unlabeled_df.comments\n",
    "\n",
    "# extract features\n",
    "X_train_tfidf, X_test_tfidf = TFIDFvec(X_train, X_test)\n",
    "\n",
    "print(X_train_tfidf.shape)\n",
    "print(X_test_tfidf.shape)"
   ]
  },
  {
   "cell_type": "code",
   "execution_count": 91,
   "metadata": {
    "collapsed": false
   },
   "outputs": [],
   "source": [
    "# predict the labels for unlabeled data and attach labels to them\n",
    "y_pred_svc = LinearSVCClass(X_train_tfidf, y_train, X_test_tfidf)"
   ]
  },
  {
   "cell_type": "code",
   "execution_count": 92,
   "metadata": {
    "collapsed": false
   },
   "outputs": [
    {
     "name": "stdout",
     "output_type": "stream",
     "text": [
      "X_train:  (2420,)\n",
      "y_train:  (2420,)\n",
      "X_test:  (8574,)\n",
      "y_test:  (8574,)\n",
      "Main train dataset consists of first train split (stored in csv file) and unlabeled data that now are labeled: (10994, 2)\n"
     ]
    }
   ],
   "source": [
    "# use predicated labels from LinearSVC as test labels\n",
    "y_test = y_pred_svc\n",
    "\n",
    "print('X_train: ', X_train.shape)\n",
    "print('y_train: ', y_train.shape)\n",
    "print('X_test: ', X_test.shape)\n",
    "print('y_test: ', y_test.shape)\n",
    "\n",
    "# First merge corresponding training samples and targets (train and test)\n",
    "df_train = pd.DataFrame(\n",
    "    {'comments': X_train,\n",
    "     'score': y_train\n",
    "    })\n",
    "\n",
    "df_test = pd.DataFrame(\n",
    "    {'comments': X_test,\n",
    "     'score': y_test\n",
    "    })\n",
    "\n",
    "# Now merge both train and test datasets to one dataset that will be used as training for final LinearSVC run\n",
    "df_main_train = pd.concat([df_train, df_test], join=\"inner\", ignore_index=True)\n",
    "\n",
    "print('Main train dataset consists of first train split (stored in csv file) and unlabeled data that now are labeled:'\n",
    "      , df_main_train.shape)"
   ]
  },
  {
   "cell_type": "code",
   "execution_count": 96,
   "metadata": {
    "collapsed": false
   },
   "outputs": [
    {
     "name": "stdout",
     "output_type": "stream",
     "text": [
      "final_X_train:  (10994,)\n",
      "final_y_train:  (10994,)\n",
      "final_X_test:  (404,)\n",
      "final_y_test:  (404,)\n"
     ]
    }
   ],
   "source": [
    "# Now for final round, we use df_main_train as training set and as test set we use the first split test I did \n",
    "# in the beginning and stored as CSV file\n",
    "# The test set is never touched during these experiments, it is used only to test the classifier with upsampled\n",
    "# data as training and this time when we test the classifier after we train it with unlabeled data as well but\n",
    "# now having the labels\n",
    "\n",
    "# There is not a good propotion split between train and test datasets this time, but walking through the experiments\n",
    "# one can understand that we saved this test dataset in the beginning when we had very few data\n",
    "\n",
    "final_X_train = df_main_train.comments\n",
    "final_y_train = df_main_train.score\n",
    "final_X_test = test_df.comments\n",
    "final_y_test = test_df.score\n",
    "\n",
    "print('final_X_train: ', final_X_train.shape)\n",
    "print('final_y_train: ', final_y_train.shape)\n",
    "print('final_X_test: ', final_X_test.shape)\n",
    "print('final_y_test: ', final_y_test.shape)"
   ]
  },
  {
   "cell_type": "code",
   "execution_count": 97,
   "metadata": {
    "collapsed": false
   },
   "outputs": [
    {
     "data": {
      "image/png": "[encoded data removed]",
      "text/plain": [
       "<matplotlib.figure.Figure at 0x11d456ba8>"
      ]
     },
     "metadata": {},
     "output_type": "display_data"
    }
   ],
   "source": [
    "df_stats_train = final_y_train.value_counts()\n",
    "df_stats_test = final_y_test.value_counts()\n",
    "\n",
    "plt.figure(figsize=(12,5))\n",
    "plt.title('Number of reviews per score')\n",
    "ax1 = df_stats_train.sort_index(ascending=True).plot(color='blue', grid=True, label='Train data', kind='bar', legend=False)\n",
    "ax2 = df_stats_test.sort_index(ascending=True).plot(color='red', grid=True, label='Test data', kind='bar', legend=False)\n",
    "ax1.legend(loc=1)\n",
    "ax2.legend(loc=2)\n",
    "plt.ylabel('# of reviews', fontsize=12)\n",
    "plt.xlabel('Score', fontsize=12)\n",
    "plt.show()"
   ]
  },
  {
   "cell_type": "code",
   "execution_count": 98,
   "metadata": {
    "collapsed": false
   },
   "outputs": [
    {
     "name": "stdout",
     "output_type": "stream",
     "text": [
      "Final train  (10994, 798000)\n",
      "Final test  (404, 798000)\n"
     ]
    }
   ],
   "source": [
    "# Now lets run LinearSVC on the full training dataset (labeled train_df and unlabeled data, that are merged) and \n",
    "# test the classifier with our famous test_df we split in the very beginning and never included in any of the \n",
    "# experiments with upsampling and label prediction for unlabeled but it just helped us for testing on these tasks\n",
    "\n",
    "X_train_tfidf, X_test_tfidf = TFIDFvec(final_X_train, final_X_test)\n",
    "\n",
    "print('Final train ', X_train_tfidf.shape)\n",
    "print('Final test ', X_test_tfidf.shape)"
   ]
  },
  {
   "cell_type": "code",
   "execution_count": 99,
   "metadata": {
    "collapsed": false
   },
   "outputs": [
    {
     "name": "stdout",
     "output_type": "stream",
     "text": [
      "Balanced accuracy:  0.3272740019431196\n",
      "Accuracy:  0.2871287128712871\n",
      "Classification report: \n",
      "               precision    recall  f1-score   support\n",
      "\n",
      "           0       0.00      0.00      0.00         2\n",
      "           1       0.24      0.38      0.29        21\n",
      "           2       0.07      0.02      0.03        55\n",
      "           3       0.44      0.44      0.44       100\n",
      "           4       0.18      0.24      0.20        54\n",
      "           5       0.28      0.38      0.32        65\n",
      "           6       0.29      0.33      0.31        67\n",
      "           7       0.12      0.07      0.09        30\n",
      "           8       0.00      0.00      0.00         9\n",
      "           9       1.00      1.00      1.00         1\n",
      "\n",
      "   micro avg       0.29      0.29      0.29       404\n",
      "   macro avg       0.26      0.29      0.27       404\n",
      "weighted avg       0.26      0.29      0.27       404\n",
      "\n",
      "Confusion matrix: \n",
      "\n"
     ]
    },
    {
     "data": {
      "image/png": "[encoded data removed]",
      "text/plain": [
       "<matplotlib.figure.Figure at 0x120054a20>"
      ]
     },
     "metadata": {},
     "output_type": "display_data"
    }
   ],
   "source": [
    "## LinearSVC classification\n",
    "y_pred = LinearSVCClass(X_train_tfidf, final_y_train, X_test_tfidf)\n",
    "\n",
    "print('Balanced accuracy: ', balanced_accuracy_score(y_pred, final_y_test))\n",
    "print('Accuracy: ', accuracy_score(y_pred, final_y_test))\n",
    "print('Classification report: \\n', classification_report(final_y_test, y_pred))\n",
    "print('Confusion matrix: \\n')\n",
    "cm = plotCM(final_y_test, y_pred)"
   ]
  },
  {
   "cell_type": "code",
   "execution_count": null,
   "metadata": {
    "collapsed": true
   },
   "outputs": [],
   "source": []
  }
 ],
 "metadata": {
  "kernelspec": {
   "display_name": "Python 3",
   "language": "python",
   "name": "python3"
  },
  "language_info": {
   "codemirror_mode": {
    "name": "ipython",
    "version": 3
   },
   "file_extension": ".py",
   "mimetype": "text/x-python",
   "name": "python",
   "nbconvert_exporter": "python",
   "pygments_lexer": "ipython3",
   "version": "3.6.3"
  }
 },
 "nbformat": 4,
 "nbformat_minor": 2
}
