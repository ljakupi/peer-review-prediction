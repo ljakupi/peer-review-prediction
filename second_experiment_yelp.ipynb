{
 "cells": [
  {
   "cell_type": "code",
   "execution_count": 0,
   "metadata": {
    "colab": {},
    "colab_type": "code",
    "collapsed": true,
    "id": "0xLGvG7IKIRY"
   },
   "outputs": [],
   "source": [
    "import pandas as pd\n",
    "import numpy as np\n",
    "\n",
    "import spacy\n",
    "import torchtext\n",
    "from torchtext import data\n",
    "from torchtext import vocab\n",
    "\n",
    "import torch\n",
    "import torch.nn as nn\n",
    "import torch.optim as optim\n",
    "import torch.nn.functional as F\n",
    "from torch.autograd import Variable\n",
    "from torch.nn.utils.rnn import pack_padded_sequence, pad_packed_sequence\n",
    "\n",
    "import nltk\n",
    "from nltk.corpus import stopwords\n",
    "from nltk.stem import WordNetLemmatizer\n",
    "\n",
    "import seaborn as sns\n",
    "import matplotlib.pyplot as plt\n",
    "\n",
    "from sklearn.metrics import accuracy_score, confusion_matrix, classification_report\n",
    "from sklearn.model_selection import train_test_split"
   ]
  },
  {
   "cell_type": "code",
   "execution_count": 0,
   "metadata": {
    "colab": {
     "base_uri": "https://localhost:8080/",
     "height": 34
    },
    "colab_type": "code",
    "collapsed": false,
    "id": "I2T06OL3KIRc",
    "outputId": "db10f327-8f65-4219-9388-be8d134f0170"
   },
   "outputs": [
    {
     "data": {
      "text/plain": [
       "device(type='cuda', index=0)"
      ]
     },
     "execution_count": 2,
     "metadata": {
      "tags": []
     },
     "output_type": "execute_result"
    }
   ],
   "source": [
    "device = torch.device(\"cuda:0\" if torch.cuda.is_available() else \"cpu\")\n",
    "device"
   ]
  },
  {
   "cell_type": "markdown",
   "metadata": {
    "colab_type": "text",
    "id": "jiD_-kzcKIRi"
   },
   "source": [
    "## 1. YELP DATASET PREPROCESSING"
   ]
  },
  {
   "cell_type": "markdown",
   "metadata": {
    "colab_type": "text",
    "id": "7-alQAkv-Pqr"
   },
   "source": [
    "If you use the dataset placed under the * ./datasets/exp2/* directory, you are ready to skip to step 2 since the dataset is already pre-processed."
   ]
  },
  {
   "cell_type": "code",
   "execution_count": 0,
   "metadata": {
    "colab": {},
    "colab_type": "code",
    "collapsed": true,
    "id": "sbACfO0isgX6"
   },
   "outputs": [],
   "source": [
    "# yelp_df = pd.read_csv('./yelp_df_100k.csv', error_bad_lines=False) # error_bad_lines=False, drop bad_lines\n",
    "# yelp_df.shape"
   ]
  },
  {
   "cell_type": "code",
   "execution_count": 0,
   "metadata": {
    "colab": {},
    "colab_type": "code",
    "collapsed": true,
    "id": "mTiFb-c06Xu6"
   },
   "outputs": [],
   "source": [
    "# yelp_df.head()"
   ]
  },
  {
   "cell_type": "code",
   "execution_count": 0,
   "metadata": {
    "colab": {},
    "colab_type": "code",
    "collapsed": true,
    "id": "L98IJay4sfds"
   },
   "outputs": [],
   "source": [
    "# import re\n",
    "# def clean_text(text):\n",
    "#     text = text.lower()\n",
    "#     text = re.sub(r\"what's\", \"what is \", text)\n",
    "#     text = re.sub(r\"\\'s\", \" \", text)\n",
    "#     text = re.sub(r\"\\'ve\", \" have \", text)\n",
    "#     text = re.sub(r\"can't\", \"can not \", text)\n",
    "#     text = re.sub(r\"n't\", \" not \", text)\n",
    "#     text = re.sub(r\"i'm\", \"i am \", text)\n",
    "#     text = re.sub(r\"\\'re\", \" are \", text)\n",
    "#     text = re.sub(r\"\\'d\", \" would \", text)\n",
    "#     text = re.sub(r\"\\'ll\", \" will \", text)\n",
    "#     text = re.sub(r\"\\'scuse\", \" excuse \", text)\n",
    "#     text = re.sub('\\W', ' ', text)\n",
    "#     text = re.sub('\\s+', ' ', text)\n",
    "#     text = re.sub('[0-9]+', '', text)\n",
    "#     text = re.sub(' +', ' ', text) # replace double spaces with single\n",
    "#     text = text.replace(\"_\",\"\")\n",
    "#     text = text.strip(' ')\n",
    "#     return text"
   ]
  },
  {
   "cell_type": "code",
   "execution_count": 0,
   "metadata": {
    "colab": {},
    "colab_type": "code",
    "collapsed": true,
    "id": "EErylc63ue2x"
   },
   "outputs": [],
   "source": [
    "# # check if yelp_df hold the data\n",
    "# yelp_df.shape"
   ]
  },
  {
   "cell_type": "code",
   "execution_count": 0,
   "metadata": {
    "colab": {},
    "colab_type": "code",
    "collapsed": true,
    "id": "g1Ka_dNLAI8b"
   },
   "outputs": [],
   "source": [
    "# yelp_df.head()"
   ]
  },
  {
   "cell_type": "code",
   "execution_count": 0,
   "metadata": {
    "colab": {},
    "colab_type": "code",
    "collapsed": true,
    "id": "cCXQK_8UMe4f"
   },
   "outputs": [],
   "source": [
    "# # check if there are null values\n",
    "# yelp_df.loc[pd.isnull(yelp_df).any(1),:]\n",
    "# yelp_df = yelp_df[yelp_df[\"text\"] != \"\"]"
   ]
  },
  {
   "cell_type": "code",
   "execution_count": 0,
   "metadata": {
    "colab": {},
    "colab_type": "code",
    "collapsed": true,
    "id": "fv3gXtduMjWB"
   },
   "outputs": [],
   "source": [
    "# # if there are nulls, remove rows that have null values for text or stars cells\n",
    "# yelp_df = yelp_df.dropna()"
   ]
  },
  {
   "cell_type": "code",
   "execution_count": 0,
   "metadata": {
    "colab": {},
    "colab_type": "code",
    "collapsed": true,
    "id": "HwDfLxwMsfJ0"
   },
   "outputs": [],
   "source": [
    "# # clean the dataframe\n",
    "# yelp_df['text'] = yelp_df['text'].map(lambda com : clean_text(com))"
   ]
  },
  {
   "cell_type": "code",
   "execution_count": 0,
   "metadata": {
    "colab": {},
    "colab_type": "code",
    "collapsed": true,
    "id": "lf7z38hTsdxc"
   },
   "outputs": [],
   "source": [
    "# # scale stars to range 0-4\n",
    "# yelp_df['stars'] = yelp_df['stars'].apply(lambda x: x-1)\n",
    "# yelp_df.stars.unique()"
   ]
  },
  {
   "cell_type": "code",
   "execution_count": 0,
   "metadata": {
    "colab": {},
    "colab_type": "code",
    "collapsed": true,
    "id": "rPaeLddusXwO"
   },
   "outputs": [],
   "source": [
    "# # removal of stop words\n",
    "# nltk.download('stopwords')\n",
    "# stop = stopwords.words('english')\n",
    "# yelp_df['text'] = yelp_df['text'].apply(lambda x: \" \".join(x for x in x.split() if x not in stop))"
   ]
  },
  {
   "cell_type": "code",
   "execution_count": 0,
   "metadata": {
    "colab": {},
    "colab_type": "code",
    "collapsed": true,
    "id": "wdLtFFRlsWvU"
   },
   "outputs": [],
   "source": [
    "# # lemmatization\n",
    "# nltk.download('wordnet')\n",
    "# lemmatizer = WordNetLemmatizer()\n",
    "# yelp_df['text'] = yelp_df['text'].apply(lambda x: \" \".join([lemmatizer.lemmatize(word) for word in x.split()]))"
   ]
  },
  {
   "cell_type": "code",
   "execution_count": 0,
   "metadata": {
    "colab": {},
    "colab_type": "code",
    "collapsed": true,
    "id": "6-YqsVZLCJS3"
   },
   "outputs": [],
   "source": [
    "# yelp_df.to_csv('./yelp_df_100k.csv', encoding='utf-8')"
   ]
  },
  {
   "cell_type": "markdown",
   "metadata": {
    "colab_type": "text",
    "id": "yr9zJuVlxAri"
   },
   "source": [
    "## 2. Process dataset using torchtext"
   ]
  },
  {
   "cell_type": "markdown",
   "metadata": {
    "colab_type": "text",
    "id": "5uU6x65AE-ZH"
   },
   "source": [
    "** Load the dataset of 100k samples **"
   ]
  },
  {
   "cell_type": "code",
   "execution_count": 0,
   "metadata": {
    "colab": {},
    "colab_type": "code",
    "collapsed": true,
    "id": "CrMSjyZVCuke"
   },
   "outputs": [],
   "source": [
    "# # Load 100k Yelp reviews having 20k reviews for each of 5 classes\n",
    "main_df = pd.read_csv('./yelp_df_100k.csv', error_bad_lines=False) # error_bad_lines=False, drop bad_lines"
   ]
  },
  {
   "cell_type": "code",
   "execution_count": 0,
   "metadata": {
    "colab": {
     "base_uri": "https://localhost:8080/",
     "height": 34
    },
    "colab_type": "code",
    "collapsed": false,
    "id": "poqEpTiLJsOe",
    "outputId": "fdcc6846-f930-4f5d-eb84-afeb47090a24"
   },
   "outputs": [
    {
     "data": {
      "text/plain": [
       "(array([], dtype=int64), array([], dtype=int64))"
      ]
     },
     "execution_count": 48,
     "metadata": {
      "tags": []
     },
     "output_type": "execute_result"
    }
   ],
   "source": [
    "# # Check for empty text or stars\n",
    "np.where(main_df.applymap(lambda x: x == ''))"
   ]
  },
  {
   "cell_type": "code",
   "execution_count": 0,
   "metadata": {
    "colab": {
     "base_uri": "https://localhost:8080/",
     "height": 459
    },
    "colab_type": "code",
    "collapsed": false,
    "id": "ByhiMt5iQliO",
    "outputId": "a8beee13-f655-4eb0-f106-f831ec1c1495"
   },
   "outputs": [
    {
     "name": "stdout",
     "output_type": "stream",
     "text": [
      "   Unnamed: 0  Unnamed: 0.1  \\\n",
      "0           0             0   \n",
      "1           1             1   \n",
      "2           2             2   \n",
      "3           3             3   \n",
      "4           4             4   \n",
      "\n",
      "                                                text  stars  \n",
      "0  pizza okay best prefer biaggio flamingo fort a...      1  \n",
      "1  love place fiance go atleast week portion huge...      4  \n",
      "2  terrible dry corn bread rib tip fat mushy flav...      0  \n",
      "3  back place favorite thai place ever would go a...      1  \n",
      "4  delicious healthy food steak amazing fish pork...      4  \n",
      "   Unnamed: 0  Unnamed: 0.1  \\\n",
      "0           0             0   \n",
      "1           1             1   \n",
      "2           2             2   \n",
      "3           3             3   \n",
      "4           4             4   \n",
      "\n",
      "                                                text  stars  \n",
      "0  pizza okay best prefer biaggio flamingo fort a...      1  \n",
      "1  love place fiance atleast week portion huge fo...      4  \n",
      "2  terrible dry corn bread rib tip fat mushy flav...      0  \n",
      "3  back place favorite thai place ever would alll...      1  \n",
      "4  delicious healthy food steak amazing fish pork...      4  \n"
     ]
    }
   ],
   "source": [
    "print(main_df.head())\n",
    "main_df['text'] = main_df['text'].str.findall('\\w{3,}').str.join(' ')\n",
    "print(main_df.head())"
   ]
  },
  {
   "cell_type": "code",
   "execution_count": 0,
   "metadata": {
    "colab": {},
    "colab_type": "code",
    "collapsed": true,
    "id": "6DPDPWL_HBo8"
   },
   "outputs": [],
   "source": [
    "# # Remove two first un-important columns (Unnamed: 0\tUnnamed: 0.1)\n",
    "main_df.drop(main_df.columns[[0, 1]], axis=1, inplace=True)"
   ]
  },
  {
   "cell_type": "code",
   "execution_count": 0,
   "metadata": {
    "colab": {},
    "colab_type": "code",
    "collapsed": true,
    "id": "MCKfyulLCvVc"
   },
   "outputs": [],
   "source": [
    "# # Split to train and test\n",
    "train_df, test_df = train_test_split(main_df, test_size=0.2)"
   ]
  },
  {
   "cell_type": "code",
   "execution_count": 0,
   "metadata": {
    "colab": {},
    "colab_type": "code",
    "collapsed": true,
    "id": "D9tNAaT_CvaF"
   },
   "outputs": [],
   "source": [
    "# # Get the validation set as well\n",
    "train_df, val_df = train_test_split(train_df, test_size=0.2)"
   ]
  },
  {
   "cell_type": "code",
   "execution_count": 0,
   "metadata": {
    "colab": {
     "base_uri": "https://localhost:8080/",
     "height": 68
    },
    "colab_type": "code",
    "collapsed": false,
    "id": "inGeDWwdcYLU",
    "outputId": "a8fec8f7-846f-49c6-ae67-0d741d6eeb66"
   },
   "outputs": [
    {
     "name": "stdout",
     "output_type": "stream",
     "text": [
      "(64000, 2)\n",
      "(16000, 2)\n",
      "(20000, 2)\n"
     ]
    }
   ],
   "source": [
    "print(train_df.shape)\n",
    "print(val_df.shape)\n",
    "print(test_df.shape)"
   ]
  },
  {
   "cell_type": "code",
   "execution_count": 0,
   "metadata": {
    "colab": {
     "base_uri": "https://localhost:8080/",
     "height": 204
    },
    "colab_type": "code",
    "collapsed": false,
    "id": "GiptiP-n7Ggi",
    "outputId": "7e9879a4-a7e0-40a4-e44b-d501916e94ed"
   },
   "outputs": [
    {
     "data": {
      "text/html": [
       "<div>\n",
       "<style scoped>\n",
       "    .dataframe tbody tr th:only-of-type {\n",
       "        vertical-align: middle;\n",
       "    }\n",
       "\n",
       "    .dataframe tbody tr th {\n",
       "        vertical-align: top;\n",
       "    }\n",
       "\n",
       "    .dataframe thead th {\n",
       "        text-align: right;\n",
       "    }\n",
       "</style>\n",
       "<table border=\"1\" class=\"dataframe\">\n",
       "  <thead>\n",
       "    <tr style=\"text-align: right;\">\n",
       "      <th></th>\n",
       "      <th>text</th>\n",
       "      <th>labels</th>\n",
       "    </tr>\n",
       "  </thead>\n",
       "  <tbody>\n",
       "    <tr>\n",
       "      <th>0</th>\n",
       "      <td>wife went last night shrimp dish carne asada s...</td>\n",
       "      <td>0</td>\n",
       "    </tr>\n",
       "    <tr>\n",
       "      <th>1</th>\n",
       "      <td>used called real bagel done fabulous job revam...</td>\n",
       "      <td>0</td>\n",
       "    </tr>\n",
       "    <tr>\n",
       "      <th>2</th>\n",
       "      <td>location continues disappoint service always s...</td>\n",
       "      <td>0</td>\n",
       "    </tr>\n",
       "    <tr>\n",
       "      <th>3</th>\n",
       "      <td>place simply worth price one tuna steak carte ...</td>\n",
       "      <td>0</td>\n",
       "    </tr>\n",
       "    <tr>\n",
       "      <th>4</th>\n",
       "      <td>chili cheese fry disappointed cashier know men...</td>\n",
       "      <td>0</td>\n",
       "    </tr>\n",
       "  </tbody>\n",
       "</table>\n",
       "</div>"
      ],
      "text/plain": [
       "                                                text  labels\n",
       "0  wife went last night shrimp dish carne asada s...       0\n",
       "1  used called real bagel done fabulous job revam...       0\n",
       "2  location continues disappoint service always s...       0\n",
       "3  place simply worth price one tuna steak carte ...       0\n",
       "4  chili cheese fry disappointed cashier know men...       0"
      ]
     },
     "execution_count": 54,
     "metadata": {
      "tags": []
     },
     "output_type": "execute_result"
    }
   ],
   "source": [
    "df_train.head()"
   ]
  },
  {
   "cell_type": "code",
   "execution_count": 0,
   "metadata": {
    "colab": {},
    "colab_type": "code",
    "collapsed": true,
    "id": "iQPi_ctwdZvG"
   },
   "outputs": [],
   "source": [
    "df_stats_train = df_train.stars.value_counts()\n",
    "df_stats_test = df_val.stars.value_counts()\n",
    "df_stats_val = df_test.stars.value_counts()\n",
    "\n",
    "plt.figure(figsize=(12,5))\n",
    "plt.title('Number of reviews per score')\n",
    "ax1 = df_stats_train.sort_index(ascending=True).plot(color='blue', grid=True, label='Train data', kind='bar', legend=False)\n",
    "ax2 = df_stats_test.sort_index(ascending=True).plot(color='red', grid=True, label='Test data', kind='bar', legend=False)\n",
    "ax3 = df_stats_val.sort_index(ascending=True).plot(color='orange', grid=True, label='Val data', kind='bar', legend=False)\n",
    "ax1.legend(loc=1)\n",
    "ax2.legend(loc=2)\n",
    "ax3.legend(loc=3)\n",
    "plt.ylabel('# of reviews', fontsize=12)\n",
    "plt.xlabel('Score', fontsize=12)\n",
    "plt.show()"
   ]
  },
  {
   "cell_type": "code",
   "execution_count": 0,
   "metadata": {
    "colab": {},
    "colab_type": "code",
    "collapsed": true,
    "id": "CGN3lfGtDqEo"
   },
   "outputs": [],
   "source": [
    "# Store in separate CSV files so torchtext can read them\n",
    "df_train.to_csv('./yelp_train.csv', encoding='utf-8', index=False)\n",
    "df_val.to_csv('./yelp_val.csv', encoding='utf-8', index=False)\n",
    "df_test.to_csv('./yelp_test.csv', encoding='utf-8', index=False)"
   ]
  },
  {
   "cell_type": "markdown",
   "metadata": {
    "colab_type": "text",
    "id": "FhvcSN-0KISu"
   },
   "source": [
    "**Tokenization**"
   ]
  },
  {
   "cell_type": "code",
   "execution_count": 0,
   "metadata": {
    "colab": {},
    "colab_type": "code",
    "collapsed": true,
    "id": "BruWsIuTKISw"
   },
   "outputs": [],
   "source": [
    "# tokanize reviews\n",
    "nlp = spacy.load('en', disable=['parser', 'tagger', 'ner'])\n",
    "def tokenizer(s):\n",
    "    return [w.text.lower() for w in nlp(s)]"
   ]
  },
  {
   "cell_type": "markdown",
   "metadata": {
    "colab_type": "text",
    "id": "b6tvVRpoKITI"
   },
   "source": [
    "**Define fields**"
   ]
  },
  {
   "cell_type": "code",
   "execution_count": 0,
   "metadata": {
    "colab": {},
    "colab_type": "code",
    "collapsed": true,
    "id": "VLqqqnTGKITJ"
   },
   "outputs": [],
   "source": [
    "# columns to be processed\n",
    "text_field = data.Field(sequential=True, \n",
    "                       tokenize=tokenizer,\n",
    "                       include_lengths=True, \n",
    "                       use_vocab=True)\n",
    "\n",
    "star_field = data.Field(sequential=False, \n",
    "                         use_vocab=False, \n",
    "                         pad_token=None, \n",
    "                         unk_token=None)\n",
    "\n",
    "df_fields = [\n",
    "    ('text', text_field),\n",
    "    ('stars', star_field)\n",
    "]"
   ]
  },
  {
   "cell_type": "code",
   "execution_count": 0,
   "metadata": {
    "colab": {},
    "colab_type": "code",
    "collapsed": true,
    "id": "tMVrbxUHKITS"
   },
   "outputs": [],
   "source": [
    "# Load datasets and create torchtext dataset\n",
    "trainds, valds, testds = data.TabularDataset.splits(path='./', \n",
    "                                            format='csv', \n",
    "                                            train='yelp_train.csv',\n",
    "                                            validation='yelp_val.csv',\n",
    "                                            test='yelp_test.csv', \n",
    "                                            fields=df_fields, \n",
    "                                            skip_header=True)"
   ]
  },
  {
   "cell_type": "code",
   "execution_count": 0,
   "metadata": {
    "colab": {
     "base_uri": "https://localhost:8080/",
     "height": 34
    },
    "colab_type": "code",
    "collapsed": false,
    "id": "8RYtTOJPKITX",
    "outputId": "abeff86e-81d1-4f1a-ffb7-8b9f54555ae5"
   },
   "outputs": [
    {
     "data": {
      "text/plain": [
       "(64000, 16000, 20000)"
      ]
     },
     "execution_count": 10,
     "metadata": {
      "tags": []
     },
     "output_type": "execute_result"
    }
   ],
   "source": [
    "len(trainds), len(valds), len(testds)"
   ]
  },
  {
   "cell_type": "code",
   "execution_count": 0,
   "metadata": {
    "colab": {
     "base_uri": "https://localhost:8080/",
     "height": 156
    },
    "colab_type": "code",
    "collapsed": false,
    "id": "UBahciZ3KITa",
    "outputId": "a7cfa2c8-6c51-4987-ac8b-0e3519d59cc4"
   },
   "outputs": [
    {
     "name": "stdout",
     "output_type": "stream",
     "text": [
      "<class 'torchtext.data.example.Example'> \n",
      "\n",
      "dict_items([('text', <torchtext.data.field.Field object at 0x7f1364442ef0>), ('stars', <torchtext.data.field.Field object at 0x7f1364442d68>)]) \n",
      "\n",
      "0 \n",
      "\n",
      "['place', 'high', 'rise', 'within', 'complex', 'shop', 'store', 'often', 'slow', 'call', 'cell', 'ask', 'come', 'shop', 'n', 'ni', 'went', 'weekend', 'check', 'decent', 'experience', 'one', 'acknowledged', 'helped', 'get', 'fitting', 'room', 'quickly', 'n', 'nwhile', 'waiting', 'line', 'check', 'addressed', 'person', 'behind', 'line', 'offered', 'place', 'purchase', 'behind', 'counter', 'asked', 'loyalty', 'member', 'opened', 'register', 'basically', 'talking', 'shoulder', 'completely', 'ignoring', 'spoke', 'stated', 'next', 'line', 'also', 'loyalty', 'member', 'said', 'nothing', 'continued', 'ignore', 'handed', 'item', 'left', 'store', 'n', 'na', 'minute', 'later', 'called', 'manager', 'stated', 'bad', 'experience', 'asked', 'store', 'stop', 'calling', 'needed', 'business', 'started', 'rattling', 'number', 'customer', 'service', 'even', 'bother', 'ask', 'experience', 'called', 'asked', 'said', 'would', 'handle', 'problem', 'offered', 'solution', 'instance', 'could', 'offered', 'ring', 'quickly', 'personally', 'willing', 'give', 'another', 'chance', 'n', 'ni', 'called', 'customer', 'service', 'told', 'caller', 'front', 'sent', 'email', 'detailing', 'experience', 'asked', 'email', 'removed', 'without', 'closing', 'account', 'n', 'n', 'received', 'basic', 'auto', 'email', 'back', 'thanking', 'feedback', 'responded', 'asking', 'cell', 'phone', 'removed', 'received', 'email', 'closed', 'account', 'guess', 'add', 'insult', 'injury', 'lost', 'accumulated', 'loyalty', 'benefit', 'great', 'job', 'whbm', 'amazon', 'taking', 'n', 'na', 'mentioned', 'property', 'complex', 'try', 'support', 'physical', 'store', 'around', 'company', 'gone', 'beyond', 'make', 'feel', 'ignored', 'twice', 'four', 'time', 'one', 'shopping', 'experience']\n"
     ]
    }
   ],
   "source": [
    "ex = trainds[1]\n",
    "print(type(ex), '\\n')\n",
    "print(trainds.fields.items(), '\\n')\n",
    "print(ex.stars, '\\n')\n",
    "print(ex.text)"
   ]
  },
  {
   "cell_type": "markdown",
   "metadata": {
    "colab_type": "text",
    "id": "xN6Jtn4TKITc"
   },
   "source": [
    "## 3. Load pretrained word vectors and building vocabulary"
   ]
  },
  {
   "cell_type": "code",
   "execution_count": 0,
   "metadata": {
    "colab": {
     "base_uri": "https://localhost:8080/",
     "height": 34
    },
    "colab_type": "code",
    "collapsed": false,
    "id": "NtGL-fxTKITd",
    "outputId": "6c691d4a-4188-48ca-a445-6d9fc77ed2cf"
   },
   "outputs": [
    {
     "name": "stderr",
     "output_type": "stream",
     "text": [
      "100%|█████████▉| 398602/400000 [00:17<00:00, 22405.80it/s]"
     ]
    }
   ],
   "source": [
    "# load glove embeddings\n",
    "emb = vocab.Vectors('glove.6B.100d.txt', './')"
   ]
  },
  {
   "cell_type": "code",
   "execution_count": 0,
   "metadata": {
    "colab": {},
    "colab_type": "code",
    "collapsed": true,
    "id": "ZSwNeJjxKITg"
   },
   "outputs": [],
   "source": [
    "# build the vocabulary using all datasets (train, val, test) and assign the vectors\n",
    "text_field.build_vocab(trainds, valds, testds, max_size=500000, vectors=emb)"
   ]
  },
  {
   "cell_type": "code",
   "execution_count": 0,
   "metadata": {
    "colab": {
     "base_uri": "https://localhost:8080/",
     "height": 34
    },
    "colab_type": "code",
    "collapsed": false,
    "id": "OBi-XVhTKITi",
    "outputId": "1d7961a0-d74a-43b5-b902-27bdd34986cd"
   },
   "outputs": [
    {
     "data": {
      "text/plain": [
       "torch.Size([78551, 100])"
      ]
     },
     "execution_count": 14,
     "metadata": {
      "tags": []
     },
     "output_type": "execute_result"
    }
   ],
   "source": [
    "text_field.vocab.vectors.shape"
   ]
  },
  {
   "cell_type": "code",
   "execution_count": 0,
   "metadata": {
    "colab": {
     "base_uri": "https://localhost:8080/",
     "height": 238
    },
    "colab_type": "code",
    "collapsed": false,
    "id": "s635pnG_KITk",
    "outputId": "f905ec53-43db-4e67-dda6-3f72e7f9be20"
   },
   "outputs": [
    {
     "data": {
      "text/plain": [
       "tensor([ 0.1389,  0.1970,  0.6961, -0.2524,  0.2782, -0.1028,  0.2617, -0.5792,\n",
       "        -0.9372,  0.0171,  0.2926, -0.6789, -0.0973, -0.2325, -0.3774,  0.1612,\n",
       "         0.7874, -0.1303, -0.1270,  1.1908,  0.4064,  0.1129,  0.2895, -0.1043,\n",
       "         0.5443, -0.1394, -0.0482, -0.6537,  0.1601, -0.3687, -0.5638,  0.7095,\n",
       "         0.1609,  0.2768,  0.6022,  0.3836, -0.7004,  0.6079, -0.4465, -0.2227,\n",
       "         0.1386,  0.4198, -0.0859, -0.1451,  0.1795,  0.1058, -0.2055, -0.9602,\n",
       "        -0.1128, -0.9459, -0.3793, -0.2383,  0.0799,  1.2409, -0.1147, -2.7002,\n",
       "         0.0833,  0.6994,  1.0220,  0.0415, -0.4518,  1.0464, -0.4452,  0.4341,\n",
       "         1.0255, -0.5429,  0.5358,  0.5550,  0.1099, -0.1937,  0.2677,  0.3745,\n",
       "        -0.1229,  0.2897,  0.2591,  0.1383, -0.6663, -0.2669, -0.0437, -0.4559,\n",
       "         0.2161,  0.4007, -0.3651, -0.1738, -1.5461, -0.1422, -0.1239, -0.1028,\n",
       "        -0.1560, -0.3851, -0.2516,  0.1611,  0.2244, -0.2549, -0.7697,  0.4543,\n",
       "        -0.3992, -0.4139,  0.7230,  0.8818])"
      ]
     },
     "execution_count": 15,
     "metadata": {
      "tags": []
     },
     "output_type": "execute_result"
    }
   ],
   "source": [
    "text_field.vocab.vectors[text_field.vocab.stoi['best']]"
   ]
  },
  {
   "cell_type": "code",
   "execution_count": 0,
   "metadata": {
    "colab": {},
    "colab_type": "code",
    "collapsed": true,
    "id": "bOIP83fjOF7-"
   },
   "outputs": [],
   "source": []
  },
  {
   "cell_type": "markdown",
   "metadata": {
    "colab_type": "text",
    "collapsed": false,
    "id": "4DCJbmu-KITm"
   },
   "source": [
    "## 4. Loading the data in batches"
   ]
  },
  {
   "cell_type": "markdown",
   "metadata": {
    "colab_type": "text",
    "id": "McBb_W6uKITn"
   },
   "source": [
    "BatchGenerator is an iterable wrapper around Batch Object that returns the desired data. \n",
    "BucketIterator returns a Batch object instead of text index and labels directly and Batch object is not iterable unlike pytorch Dataloader. A single Batch object contains the data of one batch and the text and labels can be accessed via column names. This is one of the small hiccups in torchtext, therefore BatchGenerator wrapper helps here."
   ]
  },
  {
   "cell_type": "code",
   "execution_count": 0,
   "metadata": {
    "colab": {},
    "colab_type": "code",
    "collapsed": true,
    "id": "wpa_a3rmKITq"
   },
   "outputs": [],
   "source": [
    "class BatchGenerator:\n",
    "    def __init__(self, dl, x_field, y_field):\n",
    "        self.dl, self.x_field, self.y_field = dl, x_field, y_field\n",
    "        \n",
    "    def __len__(self):\n",
    "        return len(self.dl)\n",
    "    \n",
    "    def __iter__(self):\n",
    "        for batch in self.dl:\n",
    "            X = getattr(batch, self.x_field)\n",
    "            y = getattr(batch, self.y_field)\n",
    "            yield (X,y)"
   ]
  },
  {
   "cell_type": "code",
   "execution_count": 0,
   "metadata": {
    "colab": {},
    "colab_type": "code",
    "collapsed": true,
    "id": "YYDKoQIjKITu"
   },
   "outputs": [],
   "source": [
    "# Create the iterator \n",
    "traindl, valdl, testdl = data.BucketIterator.splits(\n",
    "                                                datasets=(trainds, valds, testds), \n",
    "                                                batch_sizes=(128,128,128), \n",
    "                                                sort_key=lambda x: len(x.text), \n",
    "                                                device=device, \n",
    "                                                sort_within_batch=True, \n",
    "                                                repeat=False,\n",
    "                                                shuffle = True\n",
    "                                            )\n",
    "\n",
    "# Return text and stars and make batches iterable using the BatchGenerator wrapper\n",
    "train_batches = BatchGenerator(traindl, 'text', 'stars')\n",
    "val_batches = BatchGenerator(valdl, 'text', 'stars')\n",
    "test_batches = BatchGenerator(testdl, 'text', 'stars')"
   ]
  },
  {
   "cell_type": "code",
   "execution_count": 0,
   "metadata": {
    "colab": {
     "base_uri": "https://localhost:8080/",
     "height": 34
    },
    "colab_type": "code",
    "collapsed": false,
    "id": "wmObb-5KKITw",
    "outputId": "248919c6-174c-4531-ab77-cc45e0a8f47b"
   },
   "outputs": [
    {
     "data": {
      "text/plain": [
       "(500, 125, 157)"
      ]
     },
     "execution_count": 18,
     "metadata": {
      "tags": []
     },
     "output_type": "execute_result"
    }
   ],
   "source": [
    "len(train_batches), len(val_batches), len(test_batches)"
   ]
  },
  {
   "cell_type": "markdown",
   "metadata": {
    "colab_type": "text",
    "id": "8q4rFzQXKIT5"
   },
   "source": [
    "## 5. Model and training"
   ]
  },
  {
   "cell_type": "markdown",
   "metadata": {
    "colab_type": "text",
    "id": "Bg3PIj7fKIT9"
   },
   "source": [
    "**LSTM model**"
   ]
  },
  {
   "cell_type": "code",
   "execution_count": 0,
   "metadata": {
    "colab": {},
    "colab_type": "code",
    "collapsed": true,
    "id": "g39rcvodKIT9"
   },
   "outputs": [],
   "source": [
    "class RNN(nn.Module):\n",
    "    def __init__(   \n",
    "                    self, \n",
    "                    vocab_size, \n",
    "                    embedding_dim,\n",
    "                    pretrained_embeddings,\n",
    "                    num_output=10, \n",
    "                    hidden_size=32, \n",
    "                    num_layers=1\n",
    "                ):\n",
    "\n",
    "        super(RNN, self).__init__()\n",
    "        \n",
    "        self.vocab_size = vocab_size\n",
    "        self.embedding_dim = embedding_dim\n",
    "        self.pretrained_embeddings = pretrained_embeddings\n",
    "        self.num_output = num_output\n",
    "        self.hidden_size = hidden_size\n",
    "        self.num_layers = num_layers\n",
    "        \n",
    "        # Embedding layer. Replace the initial weights of the embedding layer with the pre-trained embeddings\n",
    "        self.encoder = nn.Embedding(self.vocab_size, self.embedding_dim, _weight=self.pretrained_embeddings)\n",
    "        self.encoder.weight.requires_grad = False # HINT: the pretrained part shouldn’t be updated during training, to avoid forgetting what they already know\n",
    "        \n",
    "        # Dropout\n",
    "        # self.dropout = nn.Dropout(p = 0.5)\n",
    "        \n",
    "        # LSTM\n",
    "        self.lstm = nn.LSTM(\n",
    "                                input_size = self.embedding_dim, \n",
    "                                hidden_size = self.hidden_size, \n",
    "                                num_layers = self.num_layers\n",
    "                            )\n",
    "        \n",
    "        # Output\n",
    "        self.out = nn.Linear(self.hidden_size, self.num_output)\n",
    "    \n",
    "    def attention_unit(self, lstm_output, final_state):\n",
    "\n",
    "        \"\"\" \n",
    "        Let's add Attention mechanism in the LSTM model. \n",
    "        Use attention to compute soft alignment score corresponding \n",
    "        between each of the hidden_state and the last hidden_state of the LSTM. \n",
    "        Use torch.bmm for the batch matrix multiplication.\n",
    "\n",
    "        Arguments\n",
    "        ---------\n",
    "\n",
    "        lstm_output : Final output of the LSTM which contains hidden layer outputs for each sequence.\n",
    "        final_state : Final time-step hidden state (h_n) of the LSTM\n",
    "\n",
    "        ---------\n",
    "\n",
    "        Returns : It performs attention mechanism by first computing weights for each of the sequence present \n",
    "        in lstm_output and then finally computing the new hidden state.\n",
    "\n",
    "        Tensor Size :\n",
    "            hidden.size() = (batch_size, hidden_size)\n",
    "            attn_weights.size() = (batch_size, num_seq)\n",
    "            soft_attn_weights.size() = (batch_size, num_seq)\n",
    "            new_hidden_state.size() = (batch_size, hidden_size)\n",
    "\n",
    "        \"\"\"\n",
    "        hidden = final_state.squeeze(0)\n",
    "        attn_weights = torch.bmm(lstm_output, hidden.unsqueeze(2)).squeeze(2)\n",
    "        soft_attn_weights = F.softmax(attn_weights, 1)\n",
    "        new_hidden_state = torch.bmm(lstm_output.transpose(1, 2), soft_attn_weights.unsqueeze(2)).squeeze(2)\n",
    "        \n",
    "        return new_hidden_state\n",
    "    \n",
    "    def forward(self, x, seq_lengths):\n",
    "\n",
    "        # x.shape => (batch_size, sequence_length)\n",
    "        batch_size = x.size(1)\n",
    "\n",
    "        # Make hidden\n",
    "        hidden = self.init_hidden(batch_size)\n",
    "\n",
    "        # Make embs ... x_embed.shape => (x, batch_size, embedding_dim)\n",
    "        x_embed = self.encoder(x)\n",
    "        \n",
    "        # Drop some nodes\n",
    "        # x_embed = self.dropout(x_embed)\n",
    "\n",
    "        # Handling padding\n",
    "        x_embed_packed = pack_padded_sequence(x_embed, seq_lengths) \n",
    "        output, (hidden_final, cell_final) = self.lstm(x_embed_packed, hidden) # hidden_final.size() = (1, batch_size, hidden_size) \n",
    "            \n",
    "        # LSTM WITHOUT ATTENTION\n",
    "        # No need to unpack, since we are going to use the hidden only\n",
    "        # Use the last hidden layer output as fc's input\n",
    "        # fc_output = self.out(hidden_final[-1])\n",
    "\n",
    "        # LSTM WITH ATTENTION\n",
    "        # We need to unpack\n",
    "        output, _ = pad_packed_sequence(output, batch_first=True) # ouput.size() = (batch_size, num_seq, hidden_size)\n",
    "        attn_output = self.attention_unit(output, hidden_final) \n",
    "        fc_output = self.out(attn_output)\n",
    "            \n",
    "        return fc_output\n",
    "\n",
    "    def init_hidden(self, batch_size):\n",
    "        \n",
    "        h_0 = Variable(torch.zeros(self.num_layers, batch_size, self.hidden_size).cuda())\n",
    "        c_0 = Variable(torch.zeros(self.num_layers, batch_size, self.hidden_size).cuda())\n",
    "        \n",
    "        return (h_0, c_0)"
   ]
  },
  {
   "cell_type": "markdown",
   "metadata": {
    "colab_type": "text",
    "id": "I6Trz3KXKIT_"
   },
   "source": [
    "**Traing function**"
   ]
  },
  {
   "cell_type": "code",
   "execution_count": 0,
   "metadata": {
    "colab": {},
    "colab_type": "code",
    "collapsed": true,
    "id": "uxK26H1aKIT_"
   },
   "outputs": [],
   "source": [
    "# train cycle\n",
    "def train(model, train_batches, criterion, optimizer):\n",
    "    num_batch = len(train_batches)\n",
    "    total_loss = 0\n",
    "    y_true_train = list()\n",
    "    y_pred_train = list()\n",
    "    \n",
    "    for (input, seq_lengths), target in train_batches:    \n",
    "        pred = model(input, seq_lengths)\n",
    "        \n",
    "        loss = criterion(pred, target)\n",
    "        total_loss += loss.item()\n",
    "        \n",
    "        optimizer.zero_grad()\n",
    "        loss.backward()\n",
    "        optimizer.step()\n",
    "        \n",
    "        pred_idx = torch.max(pred, dim=1)[1]\n",
    "\n",
    "        y_true_train += list(target.cpu().data.numpy())\n",
    "        y_pred_train += list(pred_idx.cpu().data.numpy())\n",
    "        \n",
    "    train_acc = accuracy_score(y_true_train, y_pred_train)\n",
    "    train_loss = total_loss/num_batch\n",
    "\n",
    "    return train_loss, train_acc"
   ]
  },
  {
   "cell_type": "code",
   "execution_count": 0,
   "metadata": {
    "colab": {},
    "colab_type": "code",
    "collapsed": true,
    "id": "tWcEgOA_KIUC"
   },
   "outputs": [],
   "source": [
    "# validation cycle\n",
    "def validation(model, val_batches, criterion):\n",
    "    num_batch = len(val_batches)\n",
    "    total_loss = 0    \n",
    "    y_true_val = list()\n",
    "    y_pred_val = list()\n",
    "    loss_history = []\n",
    "    \n",
    "    with torch.no_grad():\n",
    "        for (input, seq_lengths), target in val_batches:\n",
    "\n",
    "            pred = model(input, seq_lengths)\n",
    "\n",
    "            loss = criterion(pred, target)\n",
    "                        \n",
    "            total_loss += loss.item()\n",
    "            loss_history.append(loss.item())\n",
    "\n",
    "            pred_idx = torch.max(pred, dim=1)[1]\n",
    "            y_true_val += list(target.cpu().data.numpy())\n",
    "            y_pred_val += list(pred_idx.cpu().data.numpy())\n",
    "            \n",
    "        val_acc = accuracy_score(y_true_val, y_pred_val)\n",
    "        val_loss = total_loss/num_batch\n",
    "    \n",
    "    return val_loss, val_acc"
   ]
  },
  {
   "cell_type": "code",
   "execution_count": 0,
   "metadata": {
    "colab": {},
    "colab_type": "code",
    "collapsed": true,
    "id": "upVyJLmLhWET"
   },
   "outputs": [],
   "source": [
    "# test cycle\n",
    "def test(model, val_batches, criterion):\n",
    "    num_batch = len(val_batches)\n",
    "    total_loss = 0    \n",
    "    y_true_val = list()\n",
    "    y_pred_val = list()\n",
    "    loss_history = []\n",
    "    \n",
    "    with torch.no_grad():\n",
    "        for (input, seq_lengths), target in val_batches:\n",
    "\n",
    "            pred = model(input, seq_lengths)\n",
    "\n",
    "            loss = criterion(pred, target)\n",
    "                        \n",
    "            total_loss += loss.item()\n",
    "            loss_history.append(loss.item())\n",
    "\n",
    "            pred_idx = torch.max(pred, dim=1)[1]\n",
    "            y_true_val += list(target.cpu().data.numpy())\n",
    "            y_pred_val += list(pred_idx.cpu().data.numpy())\n",
    "            \n",
    "        val_acc = accuracy_score(y_true_val, y_pred_val)\n",
    "        val_loss = total_loss/num_batch\n",
    "        \n",
    "        cm = confusion_matrix(y_true_val, y_pred_val)\n",
    "        scores = [1, 2, 3, 4, 5]\n",
    "        sns.heatmap(cm.T, square=True, annot=True, fmt='d', cbar=False, xticklabels=scores, yticklabels=scores)\n",
    "        plt.xlabel('true label')\n",
    "        plt.ylabel('predicted label')\n",
    "        plt.show()\n",
    "        \n",
    "        print('Classification report: \\n', classification_report(y_true_val, y_pred_val))\n",
    "\n",
    "    return val_loss, val_acc"
   ]
  },
  {
   "cell_type": "markdown",
   "metadata": {
    "colab_type": "text",
    "id": "J8uLb2ZiKIUE"
   },
   "source": [
    "**Hyperparameters**"
   ]
  },
  {
   "cell_type": "code",
   "execution_count": 0,
   "metadata": {
    "colab": {},
    "colab_type": "code",
    "collapsed": true,
    "id": "MvOBhcjfKIUE"
   },
   "outputs": [],
   "source": [
    "pretrained_embeddings = trainds.fields['text'].vocab.vectors\n",
    "vocab_size = len(text_field.vocab)\n",
    "embedding_dim = emb.dim\n",
    "hidden_size = 256\n",
    "num_output = 5\n",
    "num_layers = 1"
   ]
  },
  {
   "cell_type": "markdown",
   "metadata": {
    "colab_type": "text",
    "id": "8YC5KL3NKIUF"
   },
   "source": [
    "**Init model, optimizer and loss function**"
   ]
  },
  {
   "cell_type": "code",
   "execution_count": 0,
   "metadata": {
    "colab": {},
    "colab_type": "code",
    "collapsed": true,
    "id": "olARY4HOKIUG",
    "scrolled": false
   },
   "outputs": [],
   "source": [
    "model = RNN(\n",
    "                    vocab_size = vocab_size, \n",
    "                    embedding_dim = embedding_dim, \n",
    "                    pretrained_embeddings = pretrained_embeddings,\n",
    "                    num_output = num_output, \n",
    "                    hidden_size = hidden_size, \n",
    "                    num_layers = num_layers\n",
    "                ).cuda()\n",
    "\n",
    "optimizer = torch.optim.SGD(model.parameters(), lr=0.01)\n",
    "criterion = nn.CrossEntropyLoss()"
   ]
  },
  {
   "cell_type": "markdown",
   "metadata": {
    "colab_type": "text",
    "id": "EVLmsTlMKIUI"
   },
   "source": [
    "**Train the model**"
   ]
  },
  {
   "cell_type": "code",
   "execution_count": 0,
   "metadata": {
    "colab": {
     "base_uri": "https://localhost:8080/",
     "height": 5739
    },
    "colab_type": "code",
    "collapsed": false,
    "id": "etGHnUiqKIUI",
    "outputId": "8d072518-9d9f-4409-a10c-6d863186ece0",
    "scrolled": false
   },
   "outputs": [
    {
     "name": "stdout",
     "output_type": "stream",
     "text": [
      "Training for, 300  epochs...\n",
      "Embeddings dim:  100\n",
      "Batch size:  128\n",
      "Hidden size:  256\n",
      "Layers:  1 \n",
      "\n",
      "| Epoch: 01 | Train Loss: 1.607 | Train Acc: 23.04% | Valid Loss: 1.602 | Valid Acc: 30.53%\n",
      "| Epoch: 02 | Train Loss: 1.599 | Train Acc: 30.99% | Valid Loss: 1.593 | Valid Acc: 32.27%\n",
      "| Epoch: 03 | Train Loss: 1.588 | Train Acc: 32.92% | Valid Loss: 1.581 | Valid Acc: 33.09%\n",
      "| Epoch: 04 | Train Loss: 1.573 | Train Acc: 33.36% | Valid Loss: 1.560 | Valid Acc: 35.36%\n",
      "| Epoch: 05 | Train Loss: 1.546 | Train Acc: 34.69% | Valid Loss: 1.523 | Valid Acc: 35.16%\n",
      "| Epoch: 06 | Train Loss: 1.497 | Train Acc: 35.33% | Valid Loss: 1.459 | Valid Acc: 36.81%\n",
      "| Epoch: 07 | Train Loss: 1.417 | Train Acc: 38.53% | Valid Loss: 1.366 | Valid Acc: 41.20%\n",
      "| Epoch: 08 | Train Loss: 1.344 | Train Acc: 42.24% | Valid Loss: 1.319 | Valid Acc: 42.55%\n",
      "| Epoch: 09 | Train Loss: 1.308 | Train Acc: 43.16% | Valid Loss: 1.290 | Valid Acc: 43.71%\n",
      "| Epoch: 10 | Train Loss: 1.281 | Train Acc: 44.34% | Valid Loss: 1.260 | Valid Acc: 45.14%\n",
      "| Epoch: 11 | Train Loss: 1.258 | Train Acc: 45.52% | Valid Loss: 1.296 | Valid Acc: 42.99%\n",
      "| Epoch: 12 | Train Loss: 1.237 | Train Acc: 46.39% | Valid Loss: 1.227 | Valid Acc: 46.83%\n",
      "| Epoch: 13 | Train Loss: 1.220 | Train Acc: 47.04% | Valid Loss: 1.237 | Valid Acc: 46.12%\n",
      "| Epoch: 14 | Train Loss: 1.208 | Train Acc: 47.66% | Valid Loss: 1.201 | Valid Acc: 47.96%\n",
      "| Epoch: 15 | Train Loss: 1.192 | Train Acc: 48.57% | Valid Loss: 1.184 | Valid Acc: 48.43%\n",
      "| Epoch: 16 | Train Loss: 1.187 | Train Acc: 48.75% | Valid Loss: 1.178 | Valid Acc: 49.04%\n",
      "| Epoch: 17 | Train Loss: 1.179 | Train Acc: 49.24% | Valid Loss: 1.166 | Valid Acc: 49.52%\n",
      "| Epoch: 18 | Train Loss: 1.167 | Train Acc: 49.70% | Valid Loss: 1.166 | Valid Acc: 49.60%\n",
      "| Epoch: 19 | Train Loss: 1.164 | Train Acc: 49.49% | Valid Loss: 1.155 | Valid Acc: 50.06%\n",
      "| Epoch: 20 | Train Loss: 1.157 | Train Acc: 50.11% | Valid Loss: 1.149 | Valid Acc: 50.34%\n",
      "| Epoch: 21 | Train Loss: 1.151 | Train Acc: 50.26% | Valid Loss: 1.175 | Valid Acc: 49.45%\n",
      "| Epoch: 22 | Train Loss: 1.142 | Train Acc: 50.85% | Valid Loss: 1.159 | Valid Acc: 49.94%\n",
      "| Epoch: 23 | Train Loss: 1.137 | Train Acc: 50.92% | Valid Loss: 1.135 | Valid Acc: 50.56%\n",
      "| Epoch: 24 | Train Loss: 1.131 | Train Acc: 51.19% | Valid Loss: 1.134 | Valid Acc: 51.06%\n",
      "| Epoch: 25 | Train Loss: 1.125 | Train Acc: 51.46% | Valid Loss: 1.124 | Valid Acc: 51.22%\n",
      "| Epoch: 26 | Train Loss: 1.119 | Train Acc: 51.69% | Valid Loss: 1.116 | Valid Acc: 51.47%\n",
      "| Epoch: 27 | Train Loss: 1.115 | Train Acc: 51.82% | Valid Loss: 1.111 | Valid Acc: 51.78%\n",
      "| Epoch: 28 | Train Loss: 1.111 | Train Acc: 51.82% | Valid Loss: 1.104 | Valid Acc: 52.21%\n",
      "| Epoch: 29 | Train Loss: 1.105 | Train Acc: 52.28% | Valid Loss: 1.112 | Valid Acc: 51.97%\n",
      "| Epoch: 30 | Train Loss: 1.100 | Train Acc: 52.49% | Valid Loss: 1.132 | Valid Acc: 50.95%\n",
      "| Epoch: 31 | Train Loss: 1.099 | Train Acc: 52.46% | Valid Loss: 1.105 | Valid Acc: 52.28%\n",
      "| Epoch: 32 | Train Loss: 1.093 | Train Acc: 52.63% | Valid Loss: 1.094 | Valid Acc: 52.81%\n",
      "| Epoch: 33 | Train Loss: 1.089 | Train Acc: 53.16% | Valid Loss: 1.094 | Valid Acc: 52.38%\n",
      "| Epoch: 34 | Train Loss: 1.085 | Train Acc: 53.13% | Valid Loss: 1.087 | Valid Acc: 52.91%\n",
      "| Epoch: 35 | Train Loss: 1.083 | Train Acc: 53.01% | Valid Loss: 1.081 | Valid Acc: 53.26%\n",
      "| Epoch: 36 | Train Loss: 1.079 | Train Acc: 53.44% | Valid Loss: 1.081 | Valid Acc: 53.24%\n",
      "| Epoch: 37 | Train Loss: 1.074 | Train Acc: 53.34% | Valid Loss: 1.076 | Valid Acc: 53.40%\n",
      "| Epoch: 38 | Train Loss: 1.071 | Train Acc: 53.48% | Valid Loss: 1.072 | Valid Acc: 53.33%\n",
      "| Epoch: 39 | Train Loss: 1.069 | Train Acc: 53.87% | Valid Loss: 1.082 | Valid Acc: 53.11%\n",
      "| Epoch: 40 | Train Loss: 1.065 | Train Acc: 54.02% | Valid Loss: 1.066 | Valid Acc: 53.73%\n",
      "| Epoch: 41 | Train Loss: 1.063 | Train Acc: 53.91% | Valid Loss: 1.074 | Valid Acc: 53.66%\n",
      "| Epoch: 42 | Train Loss: 1.062 | Train Acc: 54.12% | Valid Loss: 1.080 | Valid Acc: 53.72%\n",
      "| Epoch: 43 | Train Loss: 1.059 | Train Acc: 53.94% | Valid Loss: 1.061 | Valid Acc: 54.06%\n",
      "| Epoch: 44 | Train Loss: 1.056 | Train Acc: 54.26% | Valid Loss: 1.073 | Valid Acc: 53.62%\n",
      "| Epoch: 45 | Train Loss: 1.053 | Train Acc: 54.37% | Valid Loss: 1.055 | Valid Acc: 54.31%\n",
      "| Epoch: 46 | Train Loss: 1.049 | Train Acc: 54.54% | Valid Loss: 1.068 | Valid Acc: 53.74%\n",
      "| Epoch: 47 | Train Loss: 1.049 | Train Acc: 54.55% | Valid Loss: 1.054 | Valid Acc: 54.44%\n",
      "| Epoch: 48 | Train Loss: 1.045 | Train Acc: 54.65% | Valid Loss: 1.055 | Valid Acc: 54.49%\n",
      "| Epoch: 49 | Train Loss: 1.043 | Train Acc: 54.83% | Valid Loss: 1.055 | Valid Acc: 54.32%\n",
      "| Epoch: 50 | Train Loss: 1.043 | Train Acc: 54.74% | Valid Loss: 1.233 | Valid Acc: 47.73%\n",
      "| Epoch: 51 | Train Loss: 1.042 | Train Acc: 54.83% | Valid Loss: 1.045 | Valid Acc: 54.87%\n",
      "| Epoch: 52 | Train Loss: 1.036 | Train Acc: 55.11% | Valid Loss: 1.047 | Valid Acc: 54.86%\n",
      "| Epoch: 53 | Train Loss: 1.037 | Train Acc: 55.01% | Valid Loss: 1.043 | Valid Acc: 54.86%\n",
      "| Epoch: 54 | Train Loss: 1.033 | Train Acc: 55.21% | Valid Loss: 1.054 | Valid Acc: 54.52%\n",
      "| Epoch: 55 | Train Loss: 1.032 | Train Acc: 55.27% | Valid Loss: 1.040 | Valid Acc: 54.97%\n",
      "| Epoch: 56 | Train Loss: 1.029 | Train Acc: 55.46% | Valid Loss: 1.043 | Valid Acc: 54.72%\n",
      "| Epoch: 57 | Train Loss: 1.029 | Train Acc: 55.42% | Valid Loss: 1.039 | Valid Acc: 55.20%\n",
      "| Epoch: 58 | Train Loss: 1.026 | Train Acc: 55.67% | Valid Loss: 1.069 | Valid Acc: 53.72%\n",
      "| Epoch: 59 | Train Loss: 1.024 | Train Acc: 55.62% | Valid Loss: 1.050 | Valid Acc: 54.29%\n",
      "| Epoch: 60 | Train Loss: 1.023 | Train Acc: 55.68% | Valid Loss: 1.037 | Valid Acc: 54.93%\n",
      "| Epoch: 61 | Train Loss: 1.021 | Train Acc: 55.92% | Valid Loss: 1.046 | Valid Acc: 54.83%\n",
      "| Epoch: 62 | Train Loss: 1.019 | Train Acc: 55.75% | Valid Loss: 1.034 | Valid Acc: 55.27%\n",
      "| Epoch: 63 | Train Loss: 1.018 | Train Acc: 55.86% | Valid Loss: 1.050 | Valid Acc: 54.70%\n",
      "| Epoch: 64 | Train Loss: 1.018 | Train Acc: 56.01% | Valid Loss: 1.031 | Valid Acc: 55.27%\n",
      "| Epoch: 65 | Train Loss: 1.015 | Train Acc: 55.95% | Valid Loss: 1.049 | Valid Acc: 54.56%\n",
      "| Epoch: 66 | Train Loss: 1.015 | Train Acc: 56.01% | Valid Loss: 1.026 | Valid Acc: 55.60%\n",
      "| Epoch: 67 | Train Loss: 1.012 | Train Acc: 56.12% | Valid Loss: 1.031 | Valid Acc: 55.47%\n",
      "| Epoch: 68 | Train Loss: 1.014 | Train Acc: 56.10% | Valid Loss: 1.050 | Valid Acc: 54.57%\n",
      "| Epoch: 69 | Train Loss: 1.009 | Train Acc: 56.40% | Valid Loss: 1.023 | Valid Acc: 55.61%\n",
      "| Epoch: 70 | Train Loss: 1.008 | Train Acc: 56.25% | Valid Loss: 1.030 | Valid Acc: 55.34%\n",
      "| Epoch: 71 | Train Loss: 1.008 | Train Acc: 56.33% | Valid Loss: 1.022 | Valid Acc: 55.56%\n",
      "| Epoch: 72 | Train Loss: 1.006 | Train Acc: 56.36% | Valid Loss: 1.021 | Valid Acc: 55.90%\n",
      "| Epoch: 73 | Train Loss: 1.006 | Train Acc: 56.44% | Valid Loss: 1.051 | Valid Acc: 55.04%\n",
      "| Epoch: 74 | Train Loss: 1.004 | Train Acc: 56.61% | Valid Loss: 1.023 | Valid Acc: 55.70%\n",
      "| Epoch: 75 | Train Loss: 1.002 | Train Acc: 56.77% | Valid Loss: 1.025 | Valid Acc: 55.77%\n",
      "| Epoch: 76 | Train Loss: 1.002 | Train Acc: 56.65% | Valid Loss: 1.017 | Valid Acc: 56.09%\n",
      "| Epoch: 77 | Train Loss: 0.999 | Train Acc: 56.67% | Valid Loss: 1.017 | Valid Acc: 55.77%\n",
      "| Epoch: 78 | Train Loss: 0.998 | Train Acc: 56.75% | Valid Loss: 1.026 | Valid Acc: 55.54%\n",
      "| Epoch: 79 | Train Loss: 0.999 | Train Acc: 56.62% | Valid Loss: 1.016 | Valid Acc: 56.07%\n",
      "| Epoch: 80 | Train Loss: 0.999 | Train Acc: 56.76% | Valid Loss: 1.044 | Valid Acc: 55.36%\n",
      "| Epoch: 81 | Train Loss: 0.995 | Train Acc: 56.83% | Valid Loss: 1.014 | Valid Acc: 56.07%\n",
      "| Epoch: 82 | Train Loss: 0.993 | Train Acc: 57.05% | Valid Loss: 1.030 | Valid Acc: 55.41%\n",
      "| Epoch: 83 | Train Loss: 0.993 | Train Acc: 57.05% | Valid Loss: 1.023 | Valid Acc: 55.90%\n",
      "| Epoch: 84 | Train Loss: 0.992 | Train Acc: 57.03% | Valid Loss: 1.018 | Valid Acc: 55.99%\n",
      "| Epoch: 85 | Train Loss: 0.992 | Train Acc: 57.18% | Valid Loss: 1.013 | Valid Acc: 56.14%\n",
      "| Epoch: 86 | Train Loss: 0.990 | Train Acc: 57.04% | Valid Loss: 1.020 | Valid Acc: 56.01%\n",
      "| Epoch: 87 | Train Loss: 0.988 | Train Acc: 57.22% | Valid Loss: 1.014 | Valid Acc: 55.88%\n",
      "| Epoch: 88 | Train Loss: 0.990 | Train Acc: 57.27% | Valid Loss: 1.015 | Valid Acc: 56.28%\n",
      "| Epoch: 89 | Train Loss: 0.987 | Train Acc: 57.27% | Valid Loss: 1.016 | Valid Acc: 56.07%\n",
      "| Epoch: 90 | Train Loss: 0.986 | Train Acc: 57.22% | Valid Loss: 1.022 | Valid Acc: 55.94%\n",
      "| Epoch: 91 | Train Loss: 0.985 | Train Acc: 57.43% | Valid Loss: 1.005 | Valid Acc: 56.38%\n",
      "| Epoch: 92 | Train Loss: 0.984 | Train Acc: 57.30% | Valid Loss: 1.014 | Valid Acc: 56.24%\n",
      "| Epoch: 93 | Train Loss: 0.982 | Train Acc: 57.45% | Valid Loss: 1.004 | Valid Acc: 56.49%\n",
      "| Epoch: 94 | Train Loss: 0.983 | Train Acc: 57.54% | Valid Loss: 1.004 | Valid Acc: 56.43%\n",
      "| Epoch: 95 | Train Loss: 0.980 | Train Acc: 57.68% | Valid Loss: 1.004 | Valid Acc: 56.49%\n",
      "| Epoch: 96 | Train Loss: 0.980 | Train Acc: 57.50% | Valid Loss: 1.004 | Valid Acc: 56.68%\n",
      "| Epoch: 97 | Train Loss: 0.979 | Train Acc: 57.82% | Valid Loss: 1.007 | Valid Acc: 56.16%\n",
      "| Epoch: 98 | Train Loss: 0.980 | Train Acc: 57.63% | Valid Loss: 1.013 | Valid Acc: 56.29%\n",
      "| Epoch: 99 | Train Loss: 0.977 | Train Acc: 57.79% | Valid Loss: 1.002 | Valid Acc: 56.73%\n",
      "| Epoch: 100 | Train Loss: 0.979 | Train Acc: 57.71% | Valid Loss: 1.009 | Valid Acc: 56.49%\n",
      "| Epoch: 101 | Train Loss: 0.975 | Train Acc: 57.85% | Valid Loss: 1.004 | Valid Acc: 56.49%\n",
      "| Epoch: 102 | Train Loss: 0.975 | Train Acc: 57.74% | Valid Loss: 1.003 | Valid Acc: 56.36%\n",
      "| Epoch: 103 | Train Loss: 0.975 | Train Acc: 57.83% | Valid Loss: 1.003 | Valid Acc: 56.65%\n",
      "| Epoch: 104 | Train Loss: 0.976 | Train Acc: 57.67% | Valid Loss: 1.003 | Valid Acc: 56.53%\n",
      "| Epoch: 105 | Train Loss: 0.971 | Train Acc: 58.08% | Valid Loss: 1.011 | Valid Acc: 56.61%\n",
      "| Epoch: 106 | Train Loss: 0.973 | Train Acc: 57.84% | Valid Loss: 1.003 | Valid Acc: 56.55%\n",
      "| Epoch: 107 | Train Loss: 0.971 | Train Acc: 58.01% | Valid Loss: 1.013 | Valid Acc: 56.36%\n",
      "| Epoch: 108 | Train Loss: 0.969 | Train Acc: 58.05% | Valid Loss: 1.000 | Valid Acc: 56.60%\n",
      "| Epoch: 109 | Train Loss: 0.969 | Train Acc: 58.15% | Valid Loss: 1.046 | Valid Acc: 54.89%\n",
      "| Epoch: 110 | Train Loss: 0.968 | Train Acc: 58.13% | Valid Loss: 1.015 | Valid Acc: 56.07%\n",
      "| Epoch: 111 | Train Loss: 0.967 | Train Acc: 58.21% | Valid Loss: 1.001 | Valid Acc: 56.99%\n",
      "| Epoch: 112 | Train Loss: 0.967 | Train Acc: 58.19% | Valid Loss: 1.004 | Valid Acc: 56.84%\n",
      "| Epoch: 113 | Train Loss: 0.966 | Train Acc: 58.27% | Valid Loss: 0.996 | Valid Acc: 57.15%\n",
      "| Epoch: 114 | Train Loss: 0.964 | Train Acc: 58.43% | Valid Loss: 0.994 | Valid Acc: 56.98%\n",
      "| Epoch: 115 | Train Loss: 0.963 | Train Acc: 58.30% | Valid Loss: 1.000 | Valid Acc: 56.68%\n",
      "| Epoch: 116 | Train Loss: 0.964 | Train Acc: 58.35% | Valid Loss: 0.995 | Valid Acc: 56.71%\n",
      "| Epoch: 117 | Train Loss: 0.963 | Train Acc: 58.56% | Valid Loss: 1.009 | Valid Acc: 55.99%\n",
      "| Epoch: 118 | Train Loss: 0.963 | Train Acc: 58.32% | Valid Loss: 1.001 | Valid Acc: 56.91%\n",
      "| Epoch: 119 | Train Loss: 0.962 | Train Acc: 58.43% | Valid Loss: 0.993 | Valid Acc: 56.87%\n",
      "| Epoch: 120 | Train Loss: 0.959 | Train Acc: 58.56% | Valid Loss: 0.991 | Valid Acc: 57.19%\n",
      "| Epoch: 121 | Train Loss: 0.960 | Train Acc: 58.57% | Valid Loss: 0.998 | Valid Acc: 57.13%\n",
      "| Epoch: 122 | Train Loss: 0.959 | Train Acc: 58.71% | Valid Loss: 0.991 | Valid Acc: 57.14%\n",
      "| Epoch: 123 | Train Loss: 0.958 | Train Acc: 58.67% | Valid Loss: 0.991 | Valid Acc: 57.36%\n",
      "| Epoch: 124 | Train Loss: 0.959 | Train Acc: 58.68% | Valid Loss: 0.992 | Valid Acc: 56.93%\n",
      "| Epoch: 125 | Train Loss: 0.956 | Train Acc: 58.67% | Valid Loss: 0.992 | Valid Acc: 57.30%\n",
      "| Epoch: 126 | Train Loss: 0.956 | Train Acc: 58.71% | Valid Loss: 1.012 | Valid Acc: 56.36%\n",
      "| Epoch: 127 | Train Loss: 0.955 | Train Acc: 58.78% | Valid Loss: 0.998 | Valid Acc: 56.73%\n",
      "| Epoch: 128 | Train Loss: 0.956 | Train Acc: 58.65% | Valid Loss: 1.004 | Valid Acc: 56.38%\n",
      "| Epoch: 129 | Train Loss: 0.953 | Train Acc: 58.84% | Valid Loss: 1.000 | Valid Acc: 56.97%\n",
      "| Epoch: 130 | Train Loss: 0.953 | Train Acc: 58.80% | Valid Loss: 0.993 | Valid Acc: 56.99%\n",
      "| Epoch: 131 | Train Loss: 0.951 | Train Acc: 58.92% | Valid Loss: 1.001 | Valid Acc: 56.82%\n",
      "| Epoch: 132 | Train Loss: 0.952 | Train Acc: 58.76% | Valid Loss: 1.002 | Valid Acc: 57.07%\n",
      "| Epoch: 133 | Train Loss: 0.953 | Train Acc: 58.76% | Valid Loss: 0.987 | Valid Acc: 57.21%\n",
      "| Epoch: 134 | Train Loss: 0.948 | Train Acc: 58.97% | Valid Loss: 0.998 | Valid Acc: 56.88%\n",
      "| Epoch: 135 | Train Loss: 0.949 | Train Acc: 58.97% | Valid Loss: 1.011 | Valid Acc: 56.47%\n",
      "| Epoch: 136 | Train Loss: 0.948 | Train Acc: 58.94% | Valid Loss: 0.992 | Valid Acc: 57.09%\n",
      "| Epoch: 137 | Train Loss: 0.948 | Train Acc: 58.84% | Valid Loss: 0.988 | Valid Acc: 57.45%\n",
      "| Epoch: 138 | Train Loss: 0.949 | Train Acc: 59.08% | Valid Loss: 0.992 | Valid Acc: 57.29%\n",
      "| Epoch: 139 | Train Loss: 0.947 | Train Acc: 59.08% | Valid Loss: 1.002 | Valid Acc: 56.62%\n",
      "| Epoch: 140 | Train Loss: 0.945 | Train Acc: 59.12% | Valid Loss: 0.988 | Valid Acc: 57.32%\n",
      "| Epoch: 141 | Train Loss: 0.945 | Train Acc: 59.11% | Valid Loss: 0.987 | Valid Acc: 57.29%\n",
      "| Epoch: 142 | Train Loss: 0.945 | Train Acc: 59.15% | Valid Loss: 0.990 | Valid Acc: 57.35%\n",
      "| Epoch: 143 | Train Loss: 0.944 | Train Acc: 59.10% | Valid Loss: 0.985 | Valid Acc: 57.56%\n",
      "| Epoch: 144 | Train Loss: 0.943 | Train Acc: 59.28% | Valid Loss: 0.998 | Valid Acc: 56.99%\n",
      "| Epoch: 145 | Train Loss: 0.942 | Train Acc: 59.33% | Valid Loss: 0.995 | Valid Acc: 56.77%\n",
      "| Epoch: 146 | Train Loss: 0.942 | Train Acc: 59.26% | Valid Loss: 0.989 | Valid Acc: 57.76%\n",
      "| Epoch: 147 | Train Loss: 0.943 | Train Acc: 59.12% | Valid Loss: 0.985 | Valid Acc: 57.53%\n",
      "| Epoch: 148 | Train Loss: 0.940 | Train Acc: 59.29% | Valid Loss: 0.983 | Valid Acc: 57.39%\n",
      "| Epoch: 149 | Train Loss: 0.941 | Train Acc: 59.20% | Valid Loss: 0.984 | Valid Acc: 57.61%\n",
      "| Epoch: 150 | Train Loss: 0.939 | Train Acc: 59.43% | Valid Loss: 0.988 | Valid Acc: 57.73%\n",
      "| Epoch: 151 | Train Loss: 0.938 | Train Acc: 59.33% | Valid Loss: 1.013 | Valid Acc: 56.27%\n",
      "| Epoch: 152 | Train Loss: 0.936 | Train Acc: 59.52% | Valid Loss: 0.991 | Valid Acc: 57.60%\n",
      "| Epoch: 153 | Train Loss: 0.938 | Train Acc: 59.55% | Valid Loss: 0.982 | Valid Acc: 57.50%\n",
      "| Epoch: 154 | Train Loss: 0.936 | Train Acc: 59.48% | Valid Loss: 0.987 | Valid Acc: 57.58%\n",
      "| Epoch: 155 | Train Loss: 0.937 | Train Acc: 59.49% | Valid Loss: 0.984 | Valid Acc: 57.53%\n",
      "| Epoch: 156 | Train Loss: 0.936 | Train Acc: 59.50% | Valid Loss: 0.992 | Valid Acc: 57.36%\n",
      "| Epoch: 157 | Train Loss: 0.934 | Train Acc: 59.43% | Valid Loss: 0.992 | Valid Acc: 57.63%\n",
      "| Epoch: 158 | Train Loss: 0.932 | Train Acc: 59.65% | Valid Loss: 0.983 | Valid Acc: 57.65%\n",
      "| Epoch: 159 | Train Loss: 0.932 | Train Acc: 59.55% | Valid Loss: 0.985 | Valid Acc: 57.23%\n",
      "| Epoch: 160 | Train Loss: 0.935 | Train Acc: 59.55% | Valid Loss: 0.985 | Valid Acc: 57.66%\n",
      "| Epoch: 161 | Train Loss: 0.932 | Train Acc: 59.61% | Valid Loss: 0.982 | Valid Acc: 57.61%\n",
      "| Epoch: 162 | Train Loss: 0.931 | Train Acc: 59.66% | Valid Loss: 0.990 | Valid Acc: 57.31%\n",
      "| Epoch: 163 | Train Loss: 0.930 | Train Acc: 59.73% | Valid Loss: 0.983 | Valid Acc: 58.04%\n",
      "| Epoch: 164 | Train Loss: 0.933 | Train Acc: 59.77% | Valid Loss: 0.985 | Valid Acc: 57.80%\n",
      "| Epoch: 165 | Train Loss: 0.930 | Train Acc: 59.87% | Valid Loss: 0.989 | Valid Acc: 57.57%\n",
      "| Epoch: 166 | Train Loss: 0.928 | Train Acc: 59.95% | Valid Loss: 0.995 | Valid Acc: 56.74%\n",
      "| Epoch: 167 | Train Loss: 0.929 | Train Acc: 59.72% | Valid Loss: 0.993 | Valid Acc: 57.17%\n",
      "| Epoch: 168 | Train Loss: 0.928 | Train Acc: 59.81% | Valid Loss: 0.986 | Valid Acc: 57.63%\n",
      "| Epoch: 169 | Train Loss: 0.926 | Train Acc: 59.79% | Valid Loss: 0.985 | Valid Acc: 57.56%\n",
      "| Epoch: 170 | Train Loss: 0.925 | Train Acc: 60.12% | Valid Loss: 0.978 | Valid Acc: 57.56%\n",
      "| Epoch: 171 | Train Loss: 0.926 | Train Acc: 59.99% | Valid Loss: 0.980 | Valid Acc: 57.82%\n",
      "| Epoch: 172 | Train Loss: 0.925 | Train Acc: 59.96% | Valid Loss: 0.989 | Valid Acc: 57.72%\n",
      "| Epoch: 173 | Train Loss: 0.924 | Train Acc: 59.98% | Valid Loss: 0.985 | Valid Acc: 57.63%\n",
      "| Epoch: 174 | Train Loss: 0.924 | Train Acc: 59.92% | Valid Loss: 0.978 | Valid Acc: 57.79%\n",
      "| Epoch: 175 | Train Loss: 0.923 | Train Acc: 59.87% | Valid Loss: 0.981 | Valid Acc: 57.56%\n",
      "| Epoch: 176 | Train Loss: 0.923 | Train Acc: 60.11% | Valid Loss: 1.008 | Valid Acc: 56.84%\n",
      "| Epoch: 177 | Train Loss: 0.922 | Train Acc: 60.19% | Valid Loss: 0.996 | Valid Acc: 57.33%\n",
      "| Epoch: 178 | Train Loss: 0.922 | Train Acc: 60.12% | Valid Loss: 0.983 | Valid Acc: 57.44%\n",
      "| Epoch: 179 | Train Loss: 0.919 | Train Acc: 60.02% | Valid Loss: 1.008 | Valid Acc: 56.45%\n",
      "| Epoch: 180 | Train Loss: 0.921 | Train Acc: 60.20% | Valid Loss: 0.985 | Valid Acc: 57.50%\n",
      "| Epoch: 181 | Train Loss: 0.920 | Train Acc: 60.12% | Valid Loss: 0.977 | Valid Acc: 57.88%\n",
      "| Epoch: 182 | Train Loss: 0.920 | Train Acc: 60.25% | Valid Loss: 1.035 | Valid Acc: 56.22%\n",
      "| Epoch: 183 | Train Loss: 0.919 | Train Acc: 60.33% | Valid Loss: 0.993 | Valid Acc: 57.56%\n",
      "| Epoch: 184 | Train Loss: 0.917 | Train Acc: 60.13% | Valid Loss: 0.995 | Valid Acc: 57.07%\n",
      "| Epoch: 185 | Train Loss: 0.917 | Train Acc: 60.30% | Valid Loss: 1.006 | Valid Acc: 56.49%\n",
      "| Epoch: 186 | Train Loss: 0.916 | Train Acc: 60.53% | Valid Loss: 0.978 | Valid Acc: 57.66%\n",
      "| Epoch: 187 | Train Loss: 0.915 | Train Acc: 60.52% | Valid Loss: 0.981 | Valid Acc: 58.09%\n",
      "| Epoch: 188 | Train Loss: 0.914 | Train Acc: 60.47% | Valid Loss: 0.979 | Valid Acc: 58.03%\n",
      "| Epoch: 189 | Train Loss: 0.916 | Train Acc: 60.24% | Valid Loss: 0.991 | Valid Acc: 56.88%\n",
      "| Epoch: 190 | Train Loss: 0.913 | Train Acc: 60.35% | Valid Loss: 0.991 | Valid Acc: 56.91%\n",
      "| Epoch: 191 | Train Loss: 0.913 | Train Acc: 60.53% | Valid Loss: 0.975 | Valid Acc: 57.90%\n",
      "| Epoch: 192 | Train Loss: 0.913 | Train Acc: 60.54% | Valid Loss: 0.982 | Valid Acc: 57.84%\n",
      "| Epoch: 193 | Train Loss: 0.912 | Train Acc: 60.48% | Valid Loss: 1.006 | Valid Acc: 56.86%\n",
      "| Epoch: 194 | Train Loss: 0.910 | Train Acc: 60.65% | Valid Loss: 0.985 | Valid Acc: 57.57%\n",
      "| Epoch: 195 | Train Loss: 0.909 | Train Acc: 60.75% | Valid Loss: 0.976 | Valid Acc: 57.98%\n",
      "| Epoch: 196 | Train Loss: 0.911 | Train Acc: 60.73% | Valid Loss: 0.976 | Valid Acc: 57.56%\n",
      "| Epoch: 197 | Train Loss: 0.910 | Train Acc: 60.76% | Valid Loss: 0.979 | Valid Acc: 57.94%\n",
      "| Epoch: 198 | Train Loss: 0.909 | Train Acc: 60.62% | Valid Loss: 0.985 | Valid Acc: 57.64%\n",
      "| Epoch: 199 | Train Loss: 0.908 | Train Acc: 60.68% | Valid Loss: 0.978 | Valid Acc: 58.00%\n",
      "| Epoch: 200 | Train Loss: 0.907 | Train Acc: 60.72% | Valid Loss: 0.992 | Valid Acc: 57.08%\n",
      "| Epoch: 201 | Train Loss: 0.908 | Train Acc: 60.66% | Valid Loss: 0.973 | Valid Acc: 58.13%\n",
      "| Epoch: 202 | Train Loss: 0.907 | Train Acc: 60.77% | Valid Loss: 0.983 | Valid Acc: 57.72%\n",
      "| Epoch: 203 | Train Loss: 0.905 | Train Acc: 60.88% | Valid Loss: 0.979 | Valid Acc: 58.25%\n",
      "| Epoch: 204 | Train Loss: 0.906 | Train Acc: 60.78% | Valid Loss: 0.989 | Valid Acc: 57.56%\n",
      "| Epoch: 205 | Train Loss: 0.904 | Train Acc: 60.80% | Valid Loss: 0.979 | Valid Acc: 57.88%\n",
      "| Epoch: 206 | Train Loss: 0.906 | Train Acc: 60.79% | Valid Loss: 0.978 | Valid Acc: 57.71%\n",
      "| Epoch: 207 | Train Loss: 0.903 | Train Acc: 60.88% | Valid Loss: 0.988 | Valid Acc: 57.41%\n",
      "| Epoch: 208 | Train Loss: 0.902 | Train Acc: 60.86% | Valid Loss: 0.975 | Valid Acc: 57.97%\n",
      "| Epoch: 209 | Train Loss: 0.903 | Train Acc: 60.88% | Valid Loss: 1.001 | Valid Acc: 56.68%\n",
      "| Epoch: 210 | Train Loss: 0.902 | Train Acc: 60.90% | Valid Loss: 0.975 | Valid Acc: 57.93%\n",
      "| Epoch: 211 | Train Loss: 0.902 | Train Acc: 61.00% | Valid Loss: 0.974 | Valid Acc: 58.09%\n",
      "| Epoch: 212 | Train Loss: 0.901 | Train Acc: 60.87% | Valid Loss: 0.974 | Valid Acc: 58.32%\n",
      "| Epoch: 213 | Train Loss: 0.898 | Train Acc: 61.04% | Valid Loss: 0.975 | Valid Acc: 57.97%\n",
      "| Epoch: 214 | Train Loss: 0.901 | Train Acc: 61.08% | Valid Loss: 0.977 | Valid Acc: 58.17%\n",
      "| Epoch: 215 | Train Loss: 0.899 | Train Acc: 61.15% | Valid Loss: 0.978 | Valid Acc: 57.83%\n",
      "| Epoch: 216 | Train Loss: 0.899 | Train Acc: 61.15% | Valid Loss: 0.974 | Valid Acc: 58.04%\n",
      "| Epoch: 217 | Train Loss: 0.897 | Train Acc: 61.40% | Valid Loss: 0.994 | Valid Acc: 57.50%\n",
      "| Epoch: 218 | Train Loss: 0.896 | Train Acc: 61.27% | Valid Loss: 0.978 | Valid Acc: 57.93%\n",
      "| Epoch: 219 | Train Loss: 0.897 | Train Acc: 61.14% | Valid Loss: 0.995 | Valid Acc: 57.53%\n",
      "| Epoch: 220 | Train Loss: 0.895 | Train Acc: 61.08% | Valid Loss: 0.974 | Valid Acc: 58.03%\n",
      "| Epoch: 221 | Train Loss: 0.895 | Train Acc: 61.17% | Valid Loss: 0.988 | Valid Acc: 57.85%\n",
      "| Epoch: 222 | Train Loss: 0.894 | Train Acc: 61.40% | Valid Loss: 0.971 | Valid Acc: 58.18%\n",
      "| Epoch: 223 | Train Loss: 0.893 | Train Acc: 61.29% | Valid Loss: 0.973 | Valid Acc: 58.14%\n",
      "| Epoch: 224 | Train Loss: 0.895 | Train Acc: 61.38% | Valid Loss: 0.979 | Valid Acc: 57.61%\n",
      "| Epoch: 225 | Train Loss: 0.892 | Train Acc: 61.33% | Valid Loss: 0.980 | Valid Acc: 57.98%\n",
      "| Epoch: 226 | Train Loss: 0.892 | Train Acc: 61.43% | Valid Loss: 0.975 | Valid Acc: 58.11%\n",
      "| Epoch: 227 | Train Loss: 0.893 | Train Acc: 61.50% | Valid Loss: 0.979 | Valid Acc: 57.76%\n",
      "| Epoch: 228 | Train Loss: 0.889 | Train Acc: 61.52% | Valid Loss: 0.973 | Valid Acc: 58.07%\n",
      "| Epoch: 229 | Train Loss: 0.889 | Train Acc: 61.46% | Valid Loss: 0.979 | Valid Acc: 58.06%\n",
      "| Epoch: 230 | Train Loss: 0.889 | Train Acc: 61.50% | Valid Loss: 0.988 | Valid Acc: 57.65%\n",
      "| Epoch: 231 | Train Loss: 0.888 | Train Acc: 61.55% | Valid Loss: 0.975 | Valid Acc: 58.33%\n",
      "| Epoch: 232 | Train Loss: 0.887 | Train Acc: 61.60% | Valid Loss: 0.986 | Valid Acc: 57.69%\n",
      "| Epoch: 234 | Train Loss: 0.887 | Train Acc: 61.56% | Valid Loss: 0.997 | Valid Acc: 57.13%\n",
      "| Epoch: 235 | Train Loss: 0.887 | Train Acc: 61.70% | Valid Loss: 1.016 | Valid Acc: 56.53%\n",
      "| Epoch: 236 | Train Loss: 0.886 | Train Acc: 61.55% | Valid Loss: 0.971 | Valid Acc: 58.22%\n",
      "| Epoch: 237 | Train Loss: 0.885 | Train Acc: 61.68% | Valid Loss: 0.985 | Valid Acc: 57.56%\n",
      "| Epoch: 238 | Train Loss: 0.881 | Train Acc: 61.91% | Valid Loss: 0.996 | Valid Acc: 57.46%\n",
      "| Epoch: 239 | Train Loss: 0.882 | Train Acc: 61.85% | Valid Loss: 0.975 | Valid Acc: 58.13%\n",
      "| Epoch: 240 | Train Loss: 0.882 | Train Acc: 61.88% | Valid Loss: 0.974 | Valid Acc: 58.20%\n",
      "| Epoch: 241 | Train Loss: 0.883 | Train Acc: 61.82% | Valid Loss: 0.978 | Valid Acc: 58.01%\n",
      "| Epoch: 242 | Train Loss: 0.880 | Train Acc: 61.95% | Valid Loss: 0.999 | Valid Acc: 56.97%\n",
      "| Epoch: 243 | Train Loss: 0.881 | Train Acc: 61.95% | Valid Loss: 0.985 | Valid Acc: 57.69%\n",
      "| Epoch: 244 | Train Loss: 0.881 | Train Acc: 61.80% | Valid Loss: 0.976 | Valid Acc: 58.17%\n",
      "| Epoch: 245 | Train Loss: 0.879 | Train Acc: 61.99% | Valid Loss: 0.975 | Valid Acc: 58.35%\n",
      "| Epoch: 246 | Train Loss: 0.880 | Train Acc: 62.08% | Valid Loss: 0.975 | Valid Acc: 58.03%\n",
      "| Epoch: 247 | Train Loss: 0.880 | Train Acc: 62.05% | Valid Loss: 0.989 | Valid Acc: 57.82%\n",
      "| Epoch: 248 | Train Loss: 0.880 | Train Acc: 61.94% | Valid Loss: 0.984 | Valid Acc: 57.55%\n",
      "| Epoch: 249 | Train Loss: 0.876 | Train Acc: 62.09% | Valid Loss: 0.976 | Valid Acc: 58.15%\n",
      "| Epoch: 250 | Train Loss: 0.876 | Train Acc: 62.03% | Valid Loss: 0.975 | Valid Acc: 57.95%\n",
      "| Epoch: 251 | Train Loss: 0.875 | Train Acc: 62.28% | Valid Loss: 0.981 | Valid Acc: 57.81%\n",
      "| Epoch: 252 | Train Loss: 0.873 | Train Acc: 62.22% | Valid Loss: 0.990 | Valid Acc: 57.63%\n",
      "| Epoch: 253 | Train Loss: 0.873 | Train Acc: 62.24% | Valid Loss: 0.982 | Valid Acc: 57.69%\n",
      "| Epoch: 254 | Train Loss: 0.873 | Train Acc: 62.32% | Valid Loss: 0.987 | Valid Acc: 57.53%\n",
      "| Epoch: 255 | Train Loss: 0.874 | Train Acc: 62.42% | Valid Loss: 0.989 | Valid Acc: 57.09%\n",
      "| Epoch: 256 | Train Loss: 0.870 | Train Acc: 62.42% | Valid Loss: 0.980 | Valid Acc: 58.16%\n",
      "| Epoch: 257 | Train Loss: 0.872 | Train Acc: 62.28% | Valid Loss: 0.978 | Valid Acc: 58.13%\n",
      "| Epoch: 258 | Train Loss: 0.868 | Train Acc: 62.45% | Valid Loss: 0.999 | Valid Acc: 57.41%\n",
      "| Epoch: 259 | Train Loss: 0.870 | Train Acc: 62.24% | Valid Loss: 0.979 | Valid Acc: 58.26%\n",
      "| Epoch: 260 | Train Loss: 0.867 | Train Acc: 62.66% | Valid Loss: 0.979 | Valid Acc: 57.88%\n",
      "| Epoch: 261 | Train Loss: 0.868 | Train Acc: 62.48% | Valid Loss: 1.005 | Valid Acc: 57.09%\n",
      "| Epoch: 262 | Train Loss: 0.866 | Train Acc: 62.61% | Valid Loss: 0.996 | Valid Acc: 57.33%\n",
      "| Epoch: 263 | Train Loss: 0.868 | Train Acc: 62.42% | Valid Loss: 0.984 | Valid Acc: 57.76%\n",
      "| Epoch: 264 | Train Loss: 0.867 | Train Acc: 62.44% | Valid Loss: 0.989 | Valid Acc: 57.63%\n",
      "| Epoch: 265 | Train Loss: 0.865 | Train Acc: 62.66% | Valid Loss: 0.979 | Valid Acc: 58.13%\n",
      "| Epoch: 266 | Train Loss: 0.864 | Train Acc: 62.63% | Valid Loss: 0.983 | Valid Acc: 57.36%\n",
      "| Epoch: 267 | Train Loss: 0.864 | Train Acc: 62.58% | Valid Loss: 0.988 | Valid Acc: 57.58%\n",
      "| Epoch: 268 | Train Loss: 0.864 | Train Acc: 62.75% | Valid Loss: 0.988 | Valid Acc: 57.59%\n",
      "| Epoch: 269 | Train Loss: 0.864 | Train Acc: 62.60% | Valid Loss: 0.997 | Valid Acc: 57.66%\n",
      "| Epoch: 270 | Train Loss: 0.862 | Train Acc: 62.84% | Valid Loss: 0.987 | Valid Acc: 58.12%\n",
      "| Epoch: 271 | Train Loss: 0.861 | Train Acc: 62.77% | Valid Loss: 1.012 | Valid Acc: 56.74%\n",
      "| Epoch: 272 | Train Loss: 0.862 | Train Acc: 62.83% | Valid Loss: 0.984 | Valid Acc: 57.91%\n",
      "| Epoch: 273 | Train Loss: 0.860 | Train Acc: 62.85% | Valid Loss: 0.986 | Valid Acc: 58.24%\n",
      "| Epoch: 274 | Train Loss: 0.860 | Train Acc: 62.96% | Valid Loss: 0.980 | Valid Acc: 58.02%\n",
      "| Epoch: 275 | Train Loss: 0.858 | Train Acc: 63.01% | Valid Loss: 0.986 | Valid Acc: 58.23%\n",
      "| Epoch: 276 | Train Loss: 0.858 | Train Acc: 63.10% | Valid Loss: 0.983 | Valid Acc: 57.77%\n",
      "| Epoch: 277 | Train Loss: 0.856 | Train Acc: 62.93% | Valid Loss: 0.977 | Valid Acc: 58.06%\n",
      "| Epoch: 278 | Train Loss: 0.856 | Train Acc: 63.15% | Valid Loss: 0.992 | Valid Acc: 57.56%\n",
      "| Epoch: 279 | Train Loss: 0.855 | Train Acc: 63.19% | Valid Loss: 1.004 | Valid Acc: 57.15%\n",
      "| Epoch: 280 | Train Loss: 0.855 | Train Acc: 63.13% | Valid Loss: 0.992 | Valid Acc: 57.43%\n",
      "| Epoch: 281 | Train Loss: 0.853 | Train Acc: 63.02% | Valid Loss: 0.989 | Valid Acc: 57.57%\n",
      "| Epoch: 282 | Train Loss: 0.855 | Train Acc: 63.17% | Valid Loss: 0.992 | Valid Acc: 58.08%\n",
      "| Epoch: 283 | Train Loss: 0.850 | Train Acc: 63.37% | Valid Loss: 0.983 | Valid Acc: 58.01%\n",
      "| Epoch: 284 | Train Loss: 0.850 | Train Acc: 63.28% | Valid Loss: 0.987 | Valid Acc: 57.76%\n",
      "| Epoch: 285 | Train Loss: 0.851 | Train Acc: 63.09% | Valid Loss: 0.989 | Valid Acc: 57.73%\n",
      "| Epoch: 286 | Train Loss: 0.849 | Train Acc: 63.44% | Valid Loss: 1.034 | Valid Acc: 56.19%\n",
      "| Epoch: 287 | Train Loss: 0.851 | Train Acc: 63.27% | Valid Loss: 0.986 | Valid Acc: 57.89%\n",
      "| Epoch: 288 | Train Loss: 0.849 | Train Acc: 63.48% | Valid Loss: 1.015 | Valid Acc: 56.93%\n",
      "| Epoch: 289 | Train Loss: 0.848 | Train Acc: 63.44% | Valid Loss: 0.987 | Valid Acc: 57.75%\n",
      "| Epoch: 290 | Train Loss: 0.849 | Train Acc: 63.30% | Valid Loss: 1.012 | Valid Acc: 56.61%\n",
      "| Epoch: 291 | Train Loss: 0.846 | Train Acc: 63.53% | Valid Loss: 0.991 | Valid Acc: 57.43%\n",
      "| Epoch: 292 | Train Loss: 0.843 | Train Acc: 63.61% | Valid Loss: 1.035 | Valid Acc: 56.93%\n",
      "| Epoch: 293 | Train Loss: 0.841 | Train Acc: 63.78% | Valid Loss: 0.995 | Valid Acc: 57.55%\n",
      "| Epoch: 294 | Train Loss: 0.843 | Train Acc: 63.58% | Valid Loss: 0.997 | Valid Acc: 57.36%\n",
      "| Epoch: 295 | Train Loss: 0.841 | Train Acc: 63.78% | Valid Loss: 1.017 | Valid Acc: 56.99%\n",
      "| Epoch: 296 | Train Loss: 0.841 | Train Acc: 63.85% | Valid Loss: 0.997 | Valid Acc: 57.44%\n",
      "| Epoch: 297 | Train Loss: 0.842 | Train Acc: 63.82% | Valid Loss: 1.004 | Valid Acc: 57.43%\n",
      "| Epoch: 298 | Train Loss: 0.839 | Train Acc: 63.94% | Valid Loss: 0.989 | Valid Acc: 57.86%\n",
      "| Epoch: 299 | Train Loss: 0.839 | Train Acc: 63.82% | Valid Loss: 0.992 | Valid Acc: 58.01%\n",
      "| Epoch: 300 | Train Loss: 0.839 | Train Acc: 63.77% | Valid Loss: 0.993 | Valid Acc: 57.64%\n"
     ]
    },
    {
     "name": "stderr",
     "output_type": "stream",
     "text": [
      "/usr/local/lib/python3.6/dist-packages/matplotlib/font_manager.py:1320: UserWarning: findfont: Font family ['Arial'] not found. Falling back to DejaVu Sans\n",
      "  (prop.get_family(), self.defaultFamily[fontext]))\n"
     ]
    },
    {
     "data": {
      "image/png": "[encoded data removed]",
      "text/plain": [
       "<matplotlib.figure.Figure at 0x7f1330ff8ef0>"
      ]
     },
     "metadata": {
      "tags": []
     },
     "output_type": "display_data"
    }
   ],
   "source": [
    "epochs = 300\n",
    "train_loss_history = []\n",
    "val_loss_history = []\n",
    "\n",
    "train_acc_history = []\n",
    "val_acc_history = []\n",
    "\n",
    "print(\"Training for,\" , epochs , \" epochs...\")\n",
    "print(\"Embeddings dim: \", embedding_dim)\n",
    "print(\"Batch size: \", train_batches.dl.batch_size)\n",
    "print(\"Hidden size: \", hidden_size)\n",
    "print(\"Layers: \", num_layers, \"\\n\")\n",
    "\n",
    "for epoch in range(1, epochs + 1):\n",
    "    \n",
    "    # Training\n",
    "    train_loss, train_acc = train(model, train_batches, criterion, optimizer)\n",
    "    \n",
    "    # Validation\n",
    "    val_loss, val_acc = validation(model, val_batches, criterion)\n",
    "    \n",
    "    # Append losses per epoch for plotting\n",
    "    train_loss_history.append(train_loss)\n",
    "    val_loss_history.append(val_loss)\n",
    "    \n",
    "    # Append accuracies per epoch for plotting\n",
    "    train_acc_history.append(train_acc)\n",
    "    val_acc_history.append(val_acc)\n",
    "    \n",
    "    print(f'| Epoch: {epoch:02} | Train Loss: {train_loss:.3f} | Train Acc: {train_acc*100:.2f}% | Valid Loss: {val_loss:.3f} | Valid Acc: {val_acc*100:.2f}%')\n",
    "\n",
    "    \n",
    "# Plot the losses and accuracies\n",
    "fig = plt.figure(figsize=(15,8))\n",
    "font = {'family' : 'Arial', 'color'  : 'black', 'weight' : 'normal', 'size'   : 12,}\n",
    "\n",
    "ax1 = fig.add_subplot(111)\n",
    "ln1 = ax1.plot(train_loss_history, 'r', label='Training Loss')\n",
    "ln2 = ax1.plot(val_loss_history, 'k', label='Val Loss')\n",
    "\n",
    "lns = ln1+ ln2\n",
    "labs = [l.get_label() for l in lns]\n",
    "\n",
    "ax1.legend(lns, labs, loc=7)\n",
    "ax1.set_ylabel('Loss', fontdict=font)\n",
    "ax1.set_title(\"Text Classification losses\", fontdict=font)\n",
    "ax1.set_xlabel('Epoch', fontdict=font)\n",
    "\n",
    "plt.show()"
   ]
  },
  {
   "cell_type": "code",
   "execution_count": 0,
   "metadata": {
    "colab": {},
    "colab_type": "code",
    "collapsed": true,
    "id": "770Nw8XdmTWq"
   },
   "outputs": [],
   "source": []
  },
  {
   "cell_type": "markdown",
   "metadata": {
    "colab_type": "text",
    "id": "rBi1ixvzKIUO"
   },
   "source": [
    "**Test the model**"
   ]
  },
  {
   "cell_type": "code",
   "execution_count": 0,
   "metadata": {
    "colab": {
     "base_uri": "https://localhost:8080/",
     "height": 599
    },
    "colab_type": "code",
    "collapsed": false,
    "id": "wpyZ7knwu-36",
    "outputId": "4d88e71d-e6f3-4a8e-8a4a-578475225469"
   },
   "outputs": [
    {
     "data": {
      "image/png": "[encoded data removed]",
      "text/plain": [
       "<matplotlib.figure.Figure at 0x7efd745270f0>"
      ]
     },
     "metadata": {
      "tags": []
     },
     "output_type": "display_data"
    },
    {
     "name": "stdout",
     "output_type": "stream",
     "text": [
      "Classification report: \n",
      "               precision    recall  f1-score   support\n",
      "\n",
      "           0       0.70      0.72      0.71      3942\n",
      "           1       0.50      0.45      0.47      4074\n",
      "           2       0.47      0.43      0.45      3882\n",
      "           3       0.50      0.55      0.52      4094\n",
      "           4       0.68      0.73      0.71      4008\n",
      "\n",
      "   micro avg       0.58      0.58      0.58     20000\n",
      "   macro avg       0.57      0.58      0.57     20000\n",
      "weighted avg       0.57      0.58      0.57     20000\n",
      "\n",
      "| Test Loss: 1.021 | Test Acc: 57.55% |\n"
     ]
    }
   ],
   "source": [
    "# with attention\n",
    "test_loss, test_acc = test(model, test_batches, criterion)\n",
    "print(f'| Test Loss: {test_loss:.3f} | Test Acc: {test_acc*100:.2f}% |')"
   ]
  },
  {
   "cell_type": "code",
   "execution_count": 0,
   "metadata": {
    "colab": {
     "base_uri": "https://localhost:8080/",
     "height": 599
    },
    "colab_type": "code",
    "collapsed": false,
    "id": "e_HMSrQChh85",
    "outputId": "2cdefc41-9de2-412c-d9ca-014ff7be90fa"
   },
   "outputs": [
    {
     "data": {
      "image/png": "[encoded data removed]",
      "text/plain": [
       "<matplotlib.figure.Figure at 0x7f1331474278>"
      ]
     },
     "metadata": {
      "tags": []
     },
     "output_type": "display_data"
    },
    {
     "name": "stdout",
     "output_type": "stream",
     "text": [
      "Classification report: \n",
      "               precision    recall  f1-score   support\n",
      "\n",
      "           0       0.64      0.79      0.71      3942\n",
      "           1       0.49      0.46      0.48      4074\n",
      "           2       0.50      0.34      0.41      3882\n",
      "           3       0.50      0.54      0.52      4094\n",
      "           4       0.67      0.69      0.68      4008\n",
      "\n",
      "   micro avg       0.57      0.57      0.57     20000\n",
      "   macro avg       0.56      0.57      0.56     20000\n",
      "weighted avg       0.56      0.57      0.56     20000\n",
      "\n",
      "| Test Loss: 1.028 | Test Acc: 56.72% |\n"
     ]
    }
   ],
   "source": [
    "# w/o attention\n",
    "test_loss, test_acc = test(model, test_batches, criterion)\n",
    "print(f'| Test Loss: {test_loss:.3f} | Test Acc: {test_acc*100:.2f}% |')"
   ]
  }
 ],
 "metadata": {
  "accelerator": "GPU",
  "colab": {
   "collapsed_sections": [],
   "name": "yelp_lstm_model.ipynb",
   "provenance": [],
   "toc_visible": true,
   "version": "0.3.2"
  },
  "kernelspec": {
   "display_name": "Python 3",
   "language": "python",
   "name": "python3"
  },
  "language_info": {
   "codemirror_mode": {
    "name": "ipython",
    "version": 3
   },
   "file_extension": ".py",
   "mimetype": "text/x-python",
   "name": "python",
   "nbconvert_exporter": "python",
   "pygments_lexer": "ipython3",
   "version": "3.6.3"
  }
 },
 "nbformat": 4,
 "nbformat_minor": 0
}
